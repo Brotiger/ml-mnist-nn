{
 "cells": [
  {
   "cell_type": "markdown",
   "id": "3004c2d6",
   "metadata": {
    "papermill": {
     "duration": 0.011155,
     "end_time": "2024-04-21T13:27:54.286743",
     "exception": false,
     "start_time": "2024-04-21T13:27:54.275588",
     "status": "completed"
    },
    "tags": []
   },
   "source": [
    "# MNIST (NN)\n",
    "## Распознавание рукописных символов"
   ]
  },
  {
   "cell_type": "code",
   "execution_count": 1,
   "id": "2fa94868",
   "metadata": {
    "_cell_guid": "b1076dfc-b9ad-4769-8c92-a6c4dae69d19",
    "_uuid": "8f2839f25d086af736a60e9eeb907d3b93b6e0e5",
    "execution": {
     "iopub.execute_input": "2024-04-21T13:27:54.310634Z",
     "iopub.status.busy": "2024-04-21T13:27:54.309830Z",
     "iopub.status.idle": "2024-04-21T13:28:01.546504Z",
     "shell.execute_reply": "2024-04-21T13:28:01.545004Z"
    },
    "papermill": {
     "duration": 7.25212,
     "end_time": "2024-04-21T13:28:01.549641",
     "exception": false,
     "start_time": "2024-04-21T13:27:54.297521",
     "status": "completed"
    },
    "tags": []
   },
   "outputs": [],
   "source": [
    "import numpy as np\n",
    "import pandas as pd\n",
    "import matplotlib.pyplot as plt\n",
    "import seaborn as sns\n",
    "\n",
    "import torch\n",
    "\n",
    "# модуль, где определены слои для нейронных сетей\n",
    "import torch.nn as nn"
   ]
  },
  {
   "cell_type": "code",
   "execution_count": 2,
   "id": "bc211357",
   "metadata": {
    "execution": {
     "iopub.execute_input": "2024-04-21T13:28:01.574722Z",
     "iopub.status.busy": "2024-04-21T13:28:01.574118Z",
     "iopub.status.idle": "2024-04-21T13:28:06.348414Z",
     "shell.execute_reply": "2024-04-21T13:28:06.346674Z"
    },
    "papermill": {
     "duration": 4.790291,
     "end_time": "2024-04-21T13:28:06.351381",
     "exception": false,
     "start_time": "2024-04-21T13:28:01.561090",
     "status": "completed"
    },
    "tags": []
   },
   "outputs": [
    {
     "data": {
      "text/html": [
       "<div>\n",
       "<style scoped>\n",
       "    .dataframe tbody tr th:only-of-type {\n",
       "        vertical-align: middle;\n",
       "    }\n",
       "\n",
       "    .dataframe tbody tr th {\n",
       "        vertical-align: top;\n",
       "    }\n",
       "\n",
       "    .dataframe thead th {\n",
       "        text-align: right;\n",
       "    }\n",
       "</style>\n",
       "<table border=\"1\" class=\"dataframe\">\n",
       "  <thead>\n",
       "    <tr style=\"text-align: right;\">\n",
       "      <th></th>\n",
       "      <th>label</th>\n",
       "      <th>pixel0</th>\n",
       "      <th>pixel1</th>\n",
       "      <th>pixel2</th>\n",
       "      <th>pixel3</th>\n",
       "      <th>pixel4</th>\n",
       "      <th>pixel5</th>\n",
       "      <th>pixel6</th>\n",
       "      <th>pixel7</th>\n",
       "      <th>pixel8</th>\n",
       "      <th>...</th>\n",
       "      <th>pixel774</th>\n",
       "      <th>pixel775</th>\n",
       "      <th>pixel776</th>\n",
       "      <th>pixel777</th>\n",
       "      <th>pixel778</th>\n",
       "      <th>pixel779</th>\n",
       "      <th>pixel780</th>\n",
       "      <th>pixel781</th>\n",
       "      <th>pixel782</th>\n",
       "      <th>pixel783</th>\n",
       "    </tr>\n",
       "  </thead>\n",
       "  <tbody>\n",
       "    <tr>\n",
       "      <th>0</th>\n",
       "      <td>1</td>\n",
       "      <td>0</td>\n",
       "      <td>0</td>\n",
       "      <td>0</td>\n",
       "      <td>0</td>\n",
       "      <td>0</td>\n",
       "      <td>0</td>\n",
       "      <td>0</td>\n",
       "      <td>0</td>\n",
       "      <td>0</td>\n",
       "      <td>...</td>\n",
       "      <td>0</td>\n",
       "      <td>0</td>\n",
       "      <td>0</td>\n",
       "      <td>0</td>\n",
       "      <td>0</td>\n",
       "      <td>0</td>\n",
       "      <td>0</td>\n",
       "      <td>0</td>\n",
       "      <td>0</td>\n",
       "      <td>0</td>\n",
       "    </tr>\n",
       "    <tr>\n",
       "      <th>1</th>\n",
       "      <td>0</td>\n",
       "      <td>0</td>\n",
       "      <td>0</td>\n",
       "      <td>0</td>\n",
       "      <td>0</td>\n",
       "      <td>0</td>\n",
       "      <td>0</td>\n",
       "      <td>0</td>\n",
       "      <td>0</td>\n",
       "      <td>0</td>\n",
       "      <td>...</td>\n",
       "      <td>0</td>\n",
       "      <td>0</td>\n",
       "      <td>0</td>\n",
       "      <td>0</td>\n",
       "      <td>0</td>\n",
       "      <td>0</td>\n",
       "      <td>0</td>\n",
       "      <td>0</td>\n",
       "      <td>0</td>\n",
       "      <td>0</td>\n",
       "    </tr>\n",
       "    <tr>\n",
       "      <th>2</th>\n",
       "      <td>1</td>\n",
       "      <td>0</td>\n",
       "      <td>0</td>\n",
       "      <td>0</td>\n",
       "      <td>0</td>\n",
       "      <td>0</td>\n",
       "      <td>0</td>\n",
       "      <td>0</td>\n",
       "      <td>0</td>\n",
       "      <td>0</td>\n",
       "      <td>...</td>\n",
       "      <td>0</td>\n",
       "      <td>0</td>\n",
       "      <td>0</td>\n",
       "      <td>0</td>\n",
       "      <td>0</td>\n",
       "      <td>0</td>\n",
       "      <td>0</td>\n",
       "      <td>0</td>\n",
       "      <td>0</td>\n",
       "      <td>0</td>\n",
       "    </tr>\n",
       "    <tr>\n",
       "      <th>3</th>\n",
       "      <td>4</td>\n",
       "      <td>0</td>\n",
       "      <td>0</td>\n",
       "      <td>0</td>\n",
       "      <td>0</td>\n",
       "      <td>0</td>\n",
       "      <td>0</td>\n",
       "      <td>0</td>\n",
       "      <td>0</td>\n",
       "      <td>0</td>\n",
       "      <td>...</td>\n",
       "      <td>0</td>\n",
       "      <td>0</td>\n",
       "      <td>0</td>\n",
       "      <td>0</td>\n",
       "      <td>0</td>\n",
       "      <td>0</td>\n",
       "      <td>0</td>\n",
       "      <td>0</td>\n",
       "      <td>0</td>\n",
       "      <td>0</td>\n",
       "    </tr>\n",
       "    <tr>\n",
       "      <th>4</th>\n",
       "      <td>0</td>\n",
       "      <td>0</td>\n",
       "      <td>0</td>\n",
       "      <td>0</td>\n",
       "      <td>0</td>\n",
       "      <td>0</td>\n",
       "      <td>0</td>\n",
       "      <td>0</td>\n",
       "      <td>0</td>\n",
       "      <td>0</td>\n",
       "      <td>...</td>\n",
       "      <td>0</td>\n",
       "      <td>0</td>\n",
       "      <td>0</td>\n",
       "      <td>0</td>\n",
       "      <td>0</td>\n",
       "      <td>0</td>\n",
       "      <td>0</td>\n",
       "      <td>0</td>\n",
       "      <td>0</td>\n",
       "      <td>0</td>\n",
       "    </tr>\n",
       "    <tr>\n",
       "      <th>...</th>\n",
       "      <td>...</td>\n",
       "      <td>...</td>\n",
       "      <td>...</td>\n",
       "      <td>...</td>\n",
       "      <td>...</td>\n",
       "      <td>...</td>\n",
       "      <td>...</td>\n",
       "      <td>...</td>\n",
       "      <td>...</td>\n",
       "      <td>...</td>\n",
       "      <td>...</td>\n",
       "      <td>...</td>\n",
       "      <td>...</td>\n",
       "      <td>...</td>\n",
       "      <td>...</td>\n",
       "      <td>...</td>\n",
       "      <td>...</td>\n",
       "      <td>...</td>\n",
       "      <td>...</td>\n",
       "      <td>...</td>\n",
       "      <td>...</td>\n",
       "    </tr>\n",
       "    <tr>\n",
       "      <th>41995</th>\n",
       "      <td>0</td>\n",
       "      <td>0</td>\n",
       "      <td>0</td>\n",
       "      <td>0</td>\n",
       "      <td>0</td>\n",
       "      <td>0</td>\n",
       "      <td>0</td>\n",
       "      <td>0</td>\n",
       "      <td>0</td>\n",
       "      <td>0</td>\n",
       "      <td>...</td>\n",
       "      <td>0</td>\n",
       "      <td>0</td>\n",
       "      <td>0</td>\n",
       "      <td>0</td>\n",
       "      <td>0</td>\n",
       "      <td>0</td>\n",
       "      <td>0</td>\n",
       "      <td>0</td>\n",
       "      <td>0</td>\n",
       "      <td>0</td>\n",
       "    </tr>\n",
       "    <tr>\n",
       "      <th>41996</th>\n",
       "      <td>1</td>\n",
       "      <td>0</td>\n",
       "      <td>0</td>\n",
       "      <td>0</td>\n",
       "      <td>0</td>\n",
       "      <td>0</td>\n",
       "      <td>0</td>\n",
       "      <td>0</td>\n",
       "      <td>0</td>\n",
       "      <td>0</td>\n",
       "      <td>...</td>\n",
       "      <td>0</td>\n",
       "      <td>0</td>\n",
       "      <td>0</td>\n",
       "      <td>0</td>\n",
       "      <td>0</td>\n",
       "      <td>0</td>\n",
       "      <td>0</td>\n",
       "      <td>0</td>\n",
       "      <td>0</td>\n",
       "      <td>0</td>\n",
       "    </tr>\n",
       "    <tr>\n",
       "      <th>41997</th>\n",
       "      <td>7</td>\n",
       "      <td>0</td>\n",
       "      <td>0</td>\n",
       "      <td>0</td>\n",
       "      <td>0</td>\n",
       "      <td>0</td>\n",
       "      <td>0</td>\n",
       "      <td>0</td>\n",
       "      <td>0</td>\n",
       "      <td>0</td>\n",
       "      <td>...</td>\n",
       "      <td>0</td>\n",
       "      <td>0</td>\n",
       "      <td>0</td>\n",
       "      <td>0</td>\n",
       "      <td>0</td>\n",
       "      <td>0</td>\n",
       "      <td>0</td>\n",
       "      <td>0</td>\n",
       "      <td>0</td>\n",
       "      <td>0</td>\n",
       "    </tr>\n",
       "    <tr>\n",
       "      <th>41998</th>\n",
       "      <td>6</td>\n",
       "      <td>0</td>\n",
       "      <td>0</td>\n",
       "      <td>0</td>\n",
       "      <td>0</td>\n",
       "      <td>0</td>\n",
       "      <td>0</td>\n",
       "      <td>0</td>\n",
       "      <td>0</td>\n",
       "      <td>0</td>\n",
       "      <td>...</td>\n",
       "      <td>0</td>\n",
       "      <td>0</td>\n",
       "      <td>0</td>\n",
       "      <td>0</td>\n",
       "      <td>0</td>\n",
       "      <td>0</td>\n",
       "      <td>0</td>\n",
       "      <td>0</td>\n",
       "      <td>0</td>\n",
       "      <td>0</td>\n",
       "    </tr>\n",
       "    <tr>\n",
       "      <th>41999</th>\n",
       "      <td>9</td>\n",
       "      <td>0</td>\n",
       "      <td>0</td>\n",
       "      <td>0</td>\n",
       "      <td>0</td>\n",
       "      <td>0</td>\n",
       "      <td>0</td>\n",
       "      <td>0</td>\n",
       "      <td>0</td>\n",
       "      <td>0</td>\n",
       "      <td>...</td>\n",
       "      <td>0</td>\n",
       "      <td>0</td>\n",
       "      <td>0</td>\n",
       "      <td>0</td>\n",
       "      <td>0</td>\n",
       "      <td>0</td>\n",
       "      <td>0</td>\n",
       "      <td>0</td>\n",
       "      <td>0</td>\n",
       "      <td>0</td>\n",
       "    </tr>\n",
       "  </tbody>\n",
       "</table>\n",
       "<p>42000 rows × 785 columns</p>\n",
       "</div>"
      ],
      "text/plain": [
       "       label  pixel0  pixel1  pixel2  pixel3  pixel4  pixel5  pixel6  pixel7  \\\n",
       "0          1       0       0       0       0       0       0       0       0   \n",
       "1          0       0       0       0       0       0       0       0       0   \n",
       "2          1       0       0       0       0       0       0       0       0   \n",
       "3          4       0       0       0       0       0       0       0       0   \n",
       "4          0       0       0       0       0       0       0       0       0   \n",
       "...      ...     ...     ...     ...     ...     ...     ...     ...     ...   \n",
       "41995      0       0       0       0       0       0       0       0       0   \n",
       "41996      1       0       0       0       0       0       0       0       0   \n",
       "41997      7       0       0       0       0       0       0       0       0   \n",
       "41998      6       0       0       0       0       0       0       0       0   \n",
       "41999      9       0       0       0       0       0       0       0       0   \n",
       "\n",
       "       pixel8  ...  pixel774  pixel775  pixel776  pixel777  pixel778  \\\n",
       "0           0  ...         0         0         0         0         0   \n",
       "1           0  ...         0         0         0         0         0   \n",
       "2           0  ...         0         0         0         0         0   \n",
       "3           0  ...         0         0         0         0         0   \n",
       "4           0  ...         0         0         0         0         0   \n",
       "...       ...  ...       ...       ...       ...       ...       ...   \n",
       "41995       0  ...         0         0         0         0         0   \n",
       "41996       0  ...         0         0         0         0         0   \n",
       "41997       0  ...         0         0         0         0         0   \n",
       "41998       0  ...         0         0         0         0         0   \n",
       "41999       0  ...         0         0         0         0         0   \n",
       "\n",
       "       pixel779  pixel780  pixel781  pixel782  pixel783  \n",
       "0             0         0         0         0         0  \n",
       "1             0         0         0         0         0  \n",
       "2             0         0         0         0         0  \n",
       "3             0         0         0         0         0  \n",
       "4             0         0         0         0         0  \n",
       "...         ...       ...       ...       ...       ...  \n",
       "41995         0         0         0         0         0  \n",
       "41996         0         0         0         0         0  \n",
       "41997         0         0         0         0         0  \n",
       "41998         0         0         0         0         0  \n",
       "41999         0         0         0         0         0  \n",
       "\n",
       "[42000 rows x 785 columns]"
      ]
     },
     "execution_count": 2,
     "metadata": {},
     "output_type": "execute_result"
    }
   ],
   "source": [
    "train = pd.read_csv('/kaggle/input/digit-recognizer/train.csv')\n",
    "train"
   ]
  },
  {
   "cell_type": "code",
   "execution_count": 3,
   "id": "8a686a20",
   "metadata": {
    "execution": {
     "iopub.execute_input": "2024-04-21T13:28:06.376726Z",
     "iopub.status.busy": "2024-04-21T13:28:06.376249Z",
     "iopub.status.idle": "2024-04-21T13:28:06.839848Z",
     "shell.execute_reply": "2024-04-21T13:28:06.838382Z"
    },
    "papermill": {
     "duration": 0.479558,
     "end_time": "2024-04-21T13:28:06.842817",
     "exception": false,
     "start_time": "2024-04-21T13:28:06.363259",
     "status": "completed"
    },
    "tags": []
   },
   "outputs": [
    {
     "name": "stdout",
     "output_type": "stream",
     "text": [
      "(28, 28)\n"
     ]
    },
    {
     "data": {
      "text/plain": [
       "<matplotlib.image.AxesImage at 0x7b6b8a8d3010>"
      ]
     },
     "execution_count": 3,
     "metadata": {},
     "output_type": "execute_result"
    },
    {
     "data": {
      "image/png": "[encoded data removed]",
      "text/plain": [
       "<Figure size 640x480 with 1 Axes>"
      ]
     },
     "metadata": {},
     "output_type": "display_data"
    }
   ],
   "source": [
    "pixels = np.array(train.iloc[123][1:])\n",
    "pixels = pixels.reshape((28, 28))\n",
    "print(pixels.shape)\n",
    "plt.imshow(pixels, cmap='gray')"
   ]
  },
  {
   "cell_type": "code",
   "execution_count": 4,
   "id": "ab90ebbf",
   "metadata": {
    "execution": {
     "iopub.execute_input": "2024-04-21T13:28:06.870076Z",
     "iopub.status.busy": "2024-04-21T13:28:06.869626Z",
     "iopub.status.idle": "2024-04-21T13:28:08.039061Z",
     "shell.execute_reply": "2024-04-21T13:28:08.038010Z"
    },
    "papermill": {
     "duration": 1.186306,
     "end_time": "2024-04-21T13:28:08.041810",
     "exception": false,
     "start_time": "2024-04-21T13:28:06.855504",
     "status": "completed"
    },
    "tags": []
   },
   "outputs": [
    {
     "name": "stdout",
     "output_type": "stream",
     "text": [
      "X_train.shape: (33600, 784)\n",
      "y_train.shape: (33600,)\n",
      "X_test.shape: (8400, 784)\n"
     ]
    }
   ],
   "source": [
    "from sklearn.model_selection import train_test_split\n",
    "\n",
    "X_train = np.array(train.drop(columns=['label'])) / 255\n",
    "y_train = np.array(train['label'])\n",
    "\n",
    "X_train, X_test, y_train, y_test = train_test_split(X_train, y_train, test_size=0.2)\n",
    "\n",
    "print(f'X_train.shape: {X_train.shape}')\n",
    "print(f'y_train.shape: {y_train.shape}')\n",
    "print(f'X_test.shape: {X_test.shape}')"
   ]
  },
  {
   "cell_type": "code",
   "execution_count": 5,
   "id": "28e7ea79",
   "metadata": {
    "execution": {
     "iopub.execute_input": "2024-04-21T13:28:08.067760Z",
     "iopub.status.busy": "2024-04-21T13:28:08.067313Z",
     "iopub.status.idle": "2024-04-21T13:28:19.361416Z",
     "shell.execute_reply": "2024-04-21T13:28:19.359729Z"
    },
    "papermill": {
     "duration": 11.310296,
     "end_time": "2024-04-21T13:28:19.364135",
     "exception": false,
     "start_time": "2024-04-21T13:28:08.053839",
     "status": "completed"
    },
    "tags": []
   },
   "outputs": [
    {
     "name": "stdout",
     "output_type": "stream",
     "text": [
      "CPU times: user 16.9 s, sys: 433 ms, total: 17.4 s\n",
      "Wall time: 11.3 s\n"
     ]
    }
   ],
   "source": [
    "%%time\n",
    "\n",
    "# определяем веса\n",
    "x0 = np.random.normal(size=(784, 10)) / np.sqrt(784)\n",
    "neurons = torch.tensor(x0, requires_grad=True) # requires_grad говорит о том что для тензора необходимо вычислить градиент \n",
    "\n",
    "# конвертируем датасет в читаймый торчом формат\n",
    "X_tensor_train = torch.tensor(X_train)\n",
    "y_tensor_train = torch.tensor(y_train)\n",
    "\n",
    "# SGD\n",
    "optimizer = torch.optim.SGD(params=[neurons], lr=1)\n",
    "loss_history = []\n",
    "\n",
    "iterCount = 100\n",
    "\n",
    "for i in range(iterCount):\n",
    "    predictions = X_tensor_train @ neurons\n",
    "    \n",
    "    # вычисляем loss\n",
    "    loss = torch.nn.functional.cross_entropy(predictions, y_tensor_train) # функция активации уже включена\n",
    "    \n",
    "    # вычисляем градиент\n",
    "    optimizer.zero_grad() # зануляем предыдущий градиент\n",
    "    loss.backward() # вычисляем градиент\n",
    "    \n",
    "    # делаем шаг\n",
    "    optimizer.step() # корректируем веса в соотвествии с градиентом\n",
    "    \n",
    "    # логируем loss\n",
    "    loss_history.append(loss.data.numpy())"
   ]
  },
  {
   "cell_type": "code",
   "execution_count": 6,
   "id": "ac99e305",
   "metadata": {
    "execution": {
     "iopub.execute_input": "2024-04-21T13:28:19.391366Z",
     "iopub.status.busy": "2024-04-21T13:28:19.390755Z",
     "iopub.status.idle": "2024-04-21T13:28:19.763703Z",
     "shell.execute_reply": "2024-04-21T13:28:19.762361Z"
    },
    "papermill": {
     "duration": 0.389279,
     "end_time": "2024-04-21T13:28:19.766536",
     "exception": false,
     "start_time": "2024-04-21T13:28:19.377257",
     "status": "completed"
    },
    "tags": []
   },
   "outputs": [
    {
     "data": {
      "text/plain": [
       "[<matplotlib.lines.Line2D at 0x7b6b554c75e0>]"
      ]
     },
     "execution_count": 6,
     "metadata": {},
     "output_type": "execute_result"
    },
    {
     "data": {
      "image/png": "[encoded data removed]",
      "text/plain": [
       "<Figure size 640x480 with 1 Axes>"
      ]
     },
     "metadata": {},
     "output_type": "display_data"
    }
   ],
   "source": [
    "plt.title('Bстория тренировки')\n",
    "plt.ylabel('loss')\n",
    "plt.xlabel('step')\n",
    "plt.plot(loss_history)"
   ]
  },
  {
   "cell_type": "code",
   "execution_count": 7,
   "id": "3007b038",
   "metadata": {
    "execution": {
     "iopub.execute_input": "2024-04-21T13:28:19.794889Z",
     "iopub.status.busy": "2024-04-21T13:28:19.794472Z",
     "iopub.status.idle": "2024-04-21T13:28:21.957791Z",
     "shell.execute_reply": "2024-04-21T13:28:21.956477Z"
    },
    "papermill": {
     "duration": 2.181499,
     "end_time": "2024-04-21T13:28:21.960923",
     "exception": false,
     "start_time": "2024-04-21T13:28:19.779424",
     "status": "completed"
    },
    "tags": []
   },
   "outputs": [
    {
     "data": {
      "image/png": "[encoded data removed]",
      "text/plain": [
       "<Figure size 3000x3000 with 10 Axes>"
      ]
     },
     "metadata": {},
     "output_type": "display_data"
    }
   ],
   "source": [
    "fig, axes = plt.subplots(1, 10, figsize=(30, 30))\n",
    "\n",
    "for i in range(10):\n",
    "    axes[i].set_title(i)\n",
    "    neuron_img = neurons[:, i].data.numpy().reshape(28, 28)\n",
    "    axes[i].imshow(neuron_img)"
   ]
  },
  {
   "cell_type": "code",
   "execution_count": 8,
   "id": "fc3ecc03",
   "metadata": {
    "execution": {
     "iopub.execute_input": "2024-04-21T13:28:21.990567Z",
     "iopub.status.busy": "2024-04-21T13:28:21.990121Z",
     "iopub.status.idle": "2024-04-21T13:28:22.061896Z",
     "shell.execute_reply": "2024-04-21T13:28:22.060547Z"
    },
    "papermill": {
     "duration": 0.090219,
     "end_time": "2024-04-21T13:28:22.065249",
     "exception": false,
     "start_time": "2024-04-21T13:28:21.975030",
     "status": "completed"
    },
    "tags": []
   },
   "outputs": [
    {
     "name": "stdout",
     "output_type": "stream",
     "text": [
      "Train f1: 0.902264467860712\n"
     ]
    }
   ],
   "source": [
    "from sklearn.metrics import f1_score\n",
    "\n",
    "def sigmoid(x):\n",
    "    ex = np.exp(x)\n",
    "    return ex / (1 + ex)\n",
    "\n",
    "digit_probabilities_train = sigmoid((X_tensor_train @ neurons).data.numpy())\n",
    "\n",
    "predictions_train = np.argmax(digit_probabilities_train, axis=1)\n",
    "f1_train = f1_score(y_train, predictions_train, average='macro')\n",
    "print(f'Train f1: {f1_train}')"
   ]
  },
  {
   "cell_type": "code",
   "execution_count": 9,
   "id": "676046f1",
   "metadata": {
    "execution": {
     "iopub.execute_input": "2024-04-21T13:28:22.095596Z",
     "iopub.status.busy": "2024-04-21T13:28:22.095143Z",
     "iopub.status.idle": "2024-04-21T13:28:22.153097Z",
     "shell.execute_reply": "2024-04-21T13:28:22.150632Z"
    },
    "papermill": {
     "duration": 0.076242,
     "end_time": "2024-04-21T13:28:22.156030",
     "exception": false,
     "start_time": "2024-04-21T13:28:22.079788",
     "status": "completed"
    },
    "tags": []
   },
   "outputs": [
    {
     "name": "stdout",
     "output_type": "stream",
     "text": [
      "Test f1: 0.9025984539205503\n"
     ]
    }
   ],
   "source": [
    "X_tensor_test = torch.tensor(X_test)\n",
    "y_tensor_test = torch.tensor(y_test)\n",
    "\n",
    "digit_probabilities_test = sigmoid((X_tensor_test @ neurons).data.numpy())\n",
    "\n",
    "predictions_test = np.argmax(digit_probabilities_test, axis=1)\n",
    "f1_test = f1_score(y_test, predictions_test, average='macro')\n",
    "print(f'Test f1: {f1_test}')"
   ]
  },
  {
   "cell_type": "code",
   "execution_count": 10,
   "id": "e1dd9744",
   "metadata": {
    "execution": {
     "iopub.execute_input": "2024-04-21T13:28:22.186526Z",
     "iopub.status.busy": "2024-04-21T13:28:22.185239Z",
     "iopub.status.idle": "2024-04-21T13:28:22.194958Z",
     "shell.execute_reply": "2024-04-21T13:28:22.194012Z"
    },
    "papermill": {
     "duration": 0.02773,
     "end_time": "2024-04-21T13:28:22.197538",
     "exception": false,
     "start_time": "2024-04-21T13:28:22.169808",
     "status": "completed"
    },
    "tags": []
   },
   "outputs": [],
   "source": [
    "# модуль, где определены функции активации для слоев нейронных сетей\n",
    "import torch.nn.functional as F\n",
    "\n",
    "class FirstNN(nn.Module):\n",
    "    def __init__(self, n_hidden_neurons=200):\n",
    "        super().__init__()\n",
    "        \n",
    "        # Здесь мы определяем обучаемые параметры модели\n",
    "        # Первый слой весов\n",
    "        # init_1 = np.random.normal(size=(784, n_hidden_neurons)) / np.sqrt(784) # гуглите \"xavier initialization\"\n",
    "        # self.neurons_layer1 = torch.tensor(init_1, requires_grad=True) # веса для первого слоя нейронов\n",
    "        # self.neurons_layer1 = nn.Parameter(self.neurons_layer1)\n",
    "        self.neurons_layer1 = nn.Linear(784, n_hidden_neurons)\n",
    "        \n",
    "        # веса для второго слоя нейронов\n",
    "        # init_2 = np.random.normal(size=(n_hidden_neurons, 10)) / np.sqrt(n_hidden_neurons)\n",
    "        # self.neurons_layer2 = torch.tensor(init_2, requires_grad=True)\n",
    "        # self.neurons_layer2 = nn.Parameter(self.neurons_layer2)\n",
    "        self.neurons_layer2 = nn.Linear(n_hidden_neurons, 10)\n",
    "        \n",
    "    def forward(self, x):\n",
    "        # Здесь мы делаем все вычисления\n",
    "        # Первый слой\n",
    "        # h = x @ self.neurons_layer1\n",
    "        h = self.neurons_layer1(x)\n",
    "        \n",
    "        # Функция активации скрытого слоя\n",
    "        # h = torch.relu(h)\n",
    "        h = F.relu(h)\n",
    "        \n",
    "        # Выходной слой\n",
    "        # out = h @ self.neurons_layer2\n",
    "        out = self.neurons_layer2(h)\n",
    "        return out"
   ]
  },
  {
   "cell_type": "code",
   "execution_count": 11,
   "id": "686350c6",
   "metadata": {
    "execution": {
     "iopub.execute_input": "2024-04-21T13:28:22.227244Z",
     "iopub.status.busy": "2024-04-21T13:28:22.226820Z",
     "iopub.status.idle": "2024-04-21T13:28:22.239971Z",
     "shell.execute_reply": "2024-04-21T13:28:22.238375Z"
    },
    "papermill": {
     "duration": 0.031366,
     "end_time": "2024-04-21T13:28:22.242925",
     "exception": false,
     "start_time": "2024-04-21T13:28:22.211559",
     "status": "completed"
    },
    "tags": []
   },
   "outputs": [],
   "source": [
    "model = FirstNN()\n",
    "optimizer = torch.optim.Adam(params=model.parameters(), lr=0.001)"
   ]
  },
  {
   "cell_type": "code",
   "execution_count": 12,
   "id": "114e4941",
   "metadata": {
    "execution": {
     "iopub.execute_input": "2024-04-21T13:28:22.274540Z",
     "iopub.status.busy": "2024-04-21T13:28:22.273164Z",
     "iopub.status.idle": "2024-04-21T13:28:35.089779Z",
     "shell.execute_reply": "2024-04-21T13:28:35.088364Z"
    },
    "papermill": {
     "duration": 12.835099,
     "end_time": "2024-04-21T13:28:35.092629",
     "exception": false,
     "start_time": "2024-04-21T13:28:22.257530",
     "status": "completed"
    },
    "tags": []
   },
   "outputs": [
    {
     "name": "stderr",
     "output_type": "stream",
     "text": [
      "100%|██████████| 50/50 [00:12<00:00,  3.94it/s]\n"
     ]
    }
   ],
   "source": [
    "from tqdm import tqdm\n",
    "\n",
    "N_EPOCHS = 50\n",
    "\n",
    "X_tensor_train = torch.tensor(X_train, dtype=torch.float32)\n",
    "y_tensor_train = torch.tensor(y_train, dtype=torch.long)\n",
    "\n",
    "X_tensor_test = torch.tensor(X_test, dtype=torch.float32)\n",
    "y_tensor_test = torch.tensor(y_test, dtype=torch.long)\n",
    "\n",
    "train_loss_history = []\n",
    "test_loss_history = []\n",
    "\n",
    "for i in tqdm(range(N_EPOCHS)):\n",
    "    # MyNN.forward()\n",
    "    predictions = model(X_tensor_train)\n",
    "    \n",
    "    loss = torch.nn.functional.cross_entropy(predictions, y_tensor_train) # активация уже включена\n",
    "    \n",
    "    # Градиенты\n",
    "    optimizer.zero_grad()\n",
    "    loss.backward()\n",
    "    \n",
    "    # Шаг спуска\n",
    "    optimizer.step()\n",
    "    train_loss_history.append(loss.item())\n",
    "    \n",
    "    # Валидируемся\n",
    "    predictions = model(X_tensor_test)\n",
    "    loss = torch.nn.functional.cross_entropy(predictions, y_tensor_test)\n",
    "    test_loss_history.append(loss.item())"
   ]
  },
  {
   "cell_type": "code",
   "execution_count": 13,
   "id": "9dbddf0f",
   "metadata": {
    "execution": {
     "iopub.execute_input": "2024-04-21T13:28:35.132869Z",
     "iopub.status.busy": "2024-04-21T13:28:35.132468Z",
     "iopub.status.idle": "2024-04-21T13:28:35.592325Z",
     "shell.execute_reply": "2024-04-21T13:28:35.590917Z"
    },
    "papermill": {
     "duration": 0.483153,
     "end_time": "2024-04-21T13:28:35.595389",
     "exception": false,
     "start_time": "2024-04-21T13:28:35.112236",
     "status": "completed"
    },
    "tags": []
   },
   "outputs": [
    {
     "data": {
      "text/plain": [
       "<matplotlib.legend.Legend at 0x7b6b54afb430>"
      ]
     },
     "execution_count": 13,
     "metadata": {},
     "output_type": "execute_result"
    },
    {
     "data": {
      "image/png": "[encoded data removed]",
      "text/plain": [
       "<Figure size 1600x800 with 1 Axes>"
      ]
     },
     "metadata": {},
     "output_type": "display_data"
    }
   ],
   "source": [
    "plt.figure(figsize=(16, 8))\n",
    "plt.title('Training history')\n",
    "plt.ylabel('loss')\n",
    "plt.xlabel('step')\n",
    "plt.plot(range(N_EPOCHS), train_loss_history, label='train_loss')\n",
    "plt.plot(range(N_EPOCHS), test_loss_history, label='test_loss')\n",
    "plt.legend()"
   ]
  },
  {
   "cell_type": "code",
   "execution_count": 14,
   "id": "4b13ac0f",
   "metadata": {
    "execution": {
     "iopub.execute_input": "2024-04-21T13:28:35.637432Z",
     "iopub.status.busy": "2024-04-21T13:28:35.636984Z",
     "iopub.status.idle": "2024-04-21T13:28:35.698121Z",
     "shell.execute_reply": "2024-04-21T13:28:35.696122Z"
    },
    "papermill": {
     "duration": 0.086089,
     "end_time": "2024-04-21T13:28:35.701568",
     "exception": false,
     "start_time": "2024-04-21T13:28:35.615479",
     "status": "completed"
    },
    "tags": []
   },
   "outputs": [
    {
     "name": "stdout",
     "output_type": "stream",
     "text": [
      "              precision    recall  f1-score   support\n",
      "\n",
      "           0       0.95      0.95      0.95       823\n",
      "           1       0.93      0.97      0.95       922\n",
      "           2       0.91      0.90      0.90       852\n",
      "           3       0.87      0.86      0.86       834\n",
      "           4       0.93      0.90      0.92       797\n",
      "           5       0.86      0.82      0.84       761\n",
      "           6       0.92      0.95      0.93       849\n",
      "           7       0.93      0.91      0.92       947\n",
      "           8       0.85      0.86      0.85       789\n",
      "           9       0.86      0.88      0.87       826\n",
      "\n",
      "    accuracy                           0.90      8400\n",
      "   macro avg       0.90      0.90      0.90      8400\n",
      "weighted avg       0.90      0.90      0.90      8400\n",
      "\n"
     ]
    }
   ],
   "source": [
    "from sklearn.metrics import classification_report\n",
    "\n",
    "digit_probabilities = model(X_tensor_test).detach().numpy()\n",
    "predictions = np.argmax(digit_probabilities, axis=1)\n",
    "print(classification_report(y_tensor_test.detach().cpu().numpy(), predictions))"
   ]
  },
  {
   "cell_type": "code",
   "execution_count": 15,
   "id": "fa07d182",
   "metadata": {
    "execution": {
     "iopub.execute_input": "2024-04-21T13:28:35.745188Z",
     "iopub.status.busy": "2024-04-21T13:28:35.744476Z",
     "iopub.status.idle": "2024-04-21T13:28:35.753334Z",
     "shell.execute_reply": "2024-04-21T13:28:35.752317Z"
    },
    "papermill": {
     "duration": 0.033517,
     "end_time": "2024-04-21T13:28:35.755931",
     "exception": false,
     "start_time": "2024-04-21T13:28:35.722414",
     "status": "completed"
    },
    "tags": []
   },
   "outputs": [],
   "source": [
    "from torch.nn import ReLU\n",
    "\n",
    "class SecondNN(nn.Module):\n",
    "    def __init__(self, n_hidden_neurons=200):\n",
    "        super().__init__()\n",
    "        \n",
    "        self.linear1 = nn.Linear(784, 256)\n",
    "        self.linear2 = nn.Linear(256, n_hidden_neurons)\n",
    "        self.linear3 = nn.Linear(n_hidden_neurons, n_hidden_neurons)\n",
    "        self.linear4 = nn.Linear(n_hidden_neurons, 10)\n",
    "        \n",
    "    def forward(self, x):\n",
    "        x = F.relu(self.linear1(x))\n",
    "        x = F.relu(self.linear2(x))\n",
    "        x = F.relu(self.linear3(x))\n",
    "        x = self.linear4(x)\n",
    "        \n",
    "        return x"
   ]
  },
  {
   "cell_type": "code",
   "execution_count": 16,
   "id": "53e1b2f2",
   "metadata": {
    "execution": {
     "iopub.execute_input": "2024-04-21T13:28:35.798893Z",
     "iopub.status.busy": "2024-04-21T13:28:35.798179Z",
     "iopub.status.idle": "2024-04-21T13:28:35.807747Z",
     "shell.execute_reply": "2024-04-21T13:28:35.806771Z"
    },
    "papermill": {
     "duration": 0.033804,
     "end_time": "2024-04-21T13:28:35.810282",
     "exception": false,
     "start_time": "2024-04-21T13:28:35.776478",
     "status": "completed"
    },
    "tags": []
   },
   "outputs": [],
   "source": [
    "model = SecondNN()\n",
    "\n",
    "# инициализация Adam для накопления импульса во время спуска\n",
    "optimizer = torch.optim.Adam(params=model.parameters(), lr=0.001)"
   ]
  },
  {
   "cell_type": "code",
   "execution_count": 17,
   "id": "80e7dad1",
   "metadata": {
    "execution": {
     "iopub.execute_input": "2024-04-21T13:28:35.853916Z",
     "iopub.status.busy": "2024-04-21T13:28:35.853502Z",
     "iopub.status.idle": "2024-04-21T13:29:27.489050Z",
     "shell.execute_reply": "2024-04-21T13:29:27.487798Z"
    },
    "papermill": {
     "duration": 51.66136,
     "end_time": "2024-04-21T13:29:27.491741",
     "exception": false,
     "start_time": "2024-04-21T13:28:35.830381",
     "status": "completed"
    },
    "tags": []
   },
   "outputs": [
    {
     "name": "stderr",
     "output_type": "stream",
     "text": [
      "100%|██████████| 100/100 [00:51<00:00,  1.94it/s]\n"
     ]
    }
   ],
   "source": [
    "N_EPOCHS = 100\n",
    "\n",
    "X_tensor_train = torch.tensor(X_train, dtype=torch.float32)\n",
    "y_tensor_train = torch.tensor(y_train, dtype=torch.long)\n",
    "X_tensor_test = torch.tensor(X_test, dtype=torch.float32)\n",
    "y_tensor_test = torch.tensor(y_test, dtype=torch.long)\n",
    "\n",
    "train_loss_history = []\n",
    "test_loss_history = []\n",
    "\n",
    "ce = nn.CrossEntropyLoss()\n",
    "\n",
    "for i in tqdm(range(N_EPOCHS)):\n",
    "    predictions = model(X_tensor_train)\n",
    "    loss = ce(predictions, y_tensor_train)\n",
    "    optimizer.zero_grad()\n",
    "    loss.backward()\n",
    "    \n",
    "    optimizer.step()\n",
    "    train_loss_history.append(loss.item())\n",
    "    \n",
    "    predictions = model(X_tensor_test)\n",
    "    loss = ce(predictions, y_tensor_test)\n",
    "    test_loss_history.append(loss.item())\n"
   ]
  },
  {
   "cell_type": "code",
   "execution_count": 18,
   "id": "705b35c1",
   "metadata": {
    "execution": {
     "iopub.execute_input": "2024-04-21T13:29:27.553423Z",
     "iopub.status.busy": "2024-04-21T13:29:27.552973Z",
     "iopub.status.idle": "2024-04-21T13:29:27.925731Z",
     "shell.execute_reply": "2024-04-21T13:29:27.924544Z"
    },
    "papermill": {
     "duration": 0.408572,
     "end_time": "2024-04-21T13:29:27.929994",
     "exception": false,
     "start_time": "2024-04-21T13:29:27.521422",
     "status": "completed"
    },
    "tags": []
   },
   "outputs": [
    {
     "data": {
      "text/plain": [
       "<matplotlib.legend.Legend at 0x7b6b8a016f20>"
      ]
     },
     "execution_count": 18,
     "metadata": {},
     "output_type": "execute_result"
    },
    {
     "data": {
      "image/png": "[encoded data removed]",
      "text/plain": [
       "<Figure size 1000x800 with 1 Axes>"
      ]
     },
     "metadata": {},
     "output_type": "display_data"
    }
   ],
   "source": [
    "plt.figure(figsize=(10, 8))\n",
    "plt.title(\"Training history\")\n",
    "plt.ylabel('loss')\n",
    "plt.xlabel('step')\n",
    "plt.plot(range(N_EPOCHS), train_loss_history, label=\"train loss\")\n",
    "plt.plot(range(N_EPOCHS), test_loss_history, label=\"test loss\")\n",
    "plt.legend()"
   ]
  },
  {
   "cell_type": "markdown",
   "id": "0aa94a0b",
   "metadata": {
    "papermill": {
     "duration": 0.032868,
     "end_time": "2024-04-21T13:29:28.003572",
     "exception": false,
     "start_time": "2024-04-21T13:29:27.970704",
     "status": "completed"
    },
    "tags": []
   },
   "source": [
    "## Классификация изображений"
   ]
  },
  {
   "cell_type": "code",
   "execution_count": 19,
   "id": "d421ae82",
   "metadata": {
    "execution": {
     "iopub.execute_input": "2024-04-21T13:29:28.065967Z",
     "iopub.status.busy": "2024-04-21T13:29:28.065564Z",
     "iopub.status.idle": "2024-04-21T13:29:28.467525Z",
     "shell.execute_reply": "2024-04-21T13:29:28.466145Z"
    },
    "papermill": {
     "duration": 0.436269,
     "end_time": "2024-04-21T13:29:28.470464",
     "exception": false,
     "start_time": "2024-04-21T13:29:28.034195",
     "status": "completed"
    },
    "tags": []
   },
   "outputs": [],
   "source": [
    "from torchvision import datasets, transforms\n",
    "from sklearn.metrics import accuracy_score\n",
    "\n",
    "transform = transforms.Compose([\n",
    "    transforms.ToTensor()\n",
    "])"
   ]
  },
  {
   "cell_type": "code",
   "execution_count": 20,
   "id": "db6584c3",
   "metadata": {
    "execution": {
     "iopub.execute_input": "2024-04-21T13:29:28.534192Z",
     "iopub.status.busy": "2024-04-21T13:29:28.533514Z",
     "iopub.status.idle": "2024-04-21T13:29:36.192654Z",
     "shell.execute_reply": "2024-04-21T13:29:36.191361Z"
    },
    "papermill": {
     "duration": 7.695917,
     "end_time": "2024-04-21T13:29:36.197266",
     "exception": false,
     "start_time": "2024-04-21T13:29:28.501349",
     "status": "completed"
    },
    "tags": []
   },
   "outputs": [
    {
     "name": "stdout",
     "output_type": "stream",
     "text": [
      "Downloading https://www.cs.toronto.edu/~kriz/cifar-10-python.tar.gz to /kaggle/working/data/cifar-10-python.tar.gz\n"
     ]
    },
    {
     "name": "stderr",
     "output_type": "stream",
     "text": [
      "100%|██████████| 170498071/170498071 [00:03<00:00, 48659413.93it/s]\n"
     ]
    },
    {
     "name": "stdout",
     "output_type": "stream",
     "text": [
      "Extracting /kaggle/working/data/cifar-10-python.tar.gz to /kaggle/working/data\n",
      "Files already downloaded and verified\n"
     ]
    }
   ],
   "source": [
    "train_data = datasets.CIFAR10(root=\"/kaggle/working/data\", train=True, download=True, transform=transform)\n",
    "test_data = datasets.CIFAR10(root=\"/kaggle/working/data\", train=False, download=True, transform=transform)"
   ]
  },
  {
   "cell_type": "code",
   "execution_count": 21,
   "id": "839f7144",
   "metadata": {
    "execution": {
     "iopub.execute_input": "2024-04-21T13:29:36.268196Z",
     "iopub.status.busy": "2024-04-21T13:29:36.267780Z",
     "iopub.status.idle": "2024-04-21T13:29:36.274314Z",
     "shell.execute_reply": "2024-04-21T13:29:36.272874Z"
    },
    "papermill": {
     "duration": 0.045193,
     "end_time": "2024-04-21T13:29:36.276558",
     "exception": false,
     "start_time": "2024-04-21T13:29:36.231365",
     "status": "completed"
    },
    "tags": []
   },
   "outputs": [],
   "source": [
    "train_loader = torch.utils.data.DataLoader(train_data, batch_size=16, shuffle=True, pin_memory=True, num_workers=2)\n",
    "test_loader = torch.utils.data.DataLoader(test_data, batch_size=16, shuffle=True)"
   ]
  },
  {
   "cell_type": "code",
   "execution_count": 22,
   "id": "e4776d35",
   "metadata": {
    "execution": {
     "iopub.execute_input": "2024-04-21T13:29:36.348713Z",
     "iopub.status.busy": "2024-04-21T13:29:36.348266Z",
     "iopub.status.idle": "2024-04-21T13:29:36.455653Z",
     "shell.execute_reply": "2024-04-21T13:29:36.453434Z"
    },
    "papermill": {
     "duration": 0.146973,
     "end_time": "2024-04-21T13:29:36.458849",
     "exception": false,
     "start_time": "2024-04-21T13:29:36.311876",
     "status": "completed"
    },
    "tags": []
   },
   "outputs": [
    {
     "name": "stderr",
     "output_type": "stream",
     "text": [
      "/opt/conda/lib/python3.10/multiprocessing/popen_fork.py:66: RuntimeWarning: os.fork() was called. os.fork() is incompatible with multithreaded code, and JAX is multithreaded, so this will likely lead to a deadlock.\n",
      "  self.pid = os.fork()\n"
     ]
    },
    {
     "data": {
      "text/plain": [
       "(torch.Size([16, 3, 32, 32]), torch.Size([16]))"
      ]
     },
     "execution_count": 22,
     "metadata": {},
     "output_type": "execute_result"
    }
   ],
   "source": [
    "dataiter = iter(train_loader)\n",
    "\n",
    "images, labels = next(dataiter)\n",
    "images.shape, labels.shape"
   ]
  },
  {
   "cell_type": "code",
   "execution_count": 23,
   "id": "30453ff7",
   "metadata": {
    "execution": {
     "iopub.execute_input": "2024-04-21T13:29:36.531168Z",
     "iopub.status.busy": "2024-04-21T13:29:36.530698Z",
     "iopub.status.idle": "2024-04-21T13:29:39.164184Z",
     "shell.execute_reply": "2024-04-21T13:29:39.163032Z"
    },
    "papermill": {
     "duration": 2.672192,
     "end_time": "2024-04-21T13:29:39.166796",
     "exception": false,
     "start_time": "2024-04-21T13:29:36.494604",
     "status": "completed"
    },
    "tags": []
   },
   "outputs": [
    {
     "data": {
      "image/png": "[encoded data removed]",
      "text/plain": [
       "<Figure size 3000x500 with 10 Axes>"
      ]
     },
     "metadata": {},
     "output_type": "display_data"
    }
   ],
   "source": [
    "def show_imgs(imgs, labels):\n",
    "    f, axes = plt.subplots(1, 10, figsize=(30, 5))\n",
    "    for i, axis in enumerate(axes):\n",
    "        axes[i].imshow(np.transpose(imgs[i].numpy(), (1, 2, 0)))\n",
    "        axes[i].set_title(labels[i].numpy())\n",
    "\n",
    "show_imgs(images, labels)"
   ]
  },
  {
   "cell_type": "code",
   "execution_count": 24,
   "id": "843464fd",
   "metadata": {
    "execution": {
     "iopub.execute_input": "2024-04-21T13:29:39.242874Z",
     "iopub.status.busy": "2024-04-21T13:29:39.241645Z",
     "iopub.status.idle": "2024-04-21T13:29:39.249606Z",
     "shell.execute_reply": "2024-04-21T13:29:39.248459Z"
    },
    "papermill": {
     "duration": 0.049592,
     "end_time": "2024-04-21T13:29:39.252247",
     "exception": false,
     "start_time": "2024-04-21T13:29:39.202655",
     "status": "completed"
    },
    "tags": []
   },
   "outputs": [],
   "source": [
    "num_to_name = {\n",
    "    0: \"Самолет\",\n",
    "    1: \"Автомобиль\",\n",
    "    2: \"Птица\",\n",
    "    3: \"Кошка\",\n",
    "    4: \"Олень\",\n",
    "    5: \"Собака\",\n",
    "    6: \"Лягушка\",\n",
    "    7: \"Лошадь\",\n",
    "    8: \"Корабль\",\n",
    "    9: \"Грузовик\"\n",
    "}"
   ]
  },
  {
   "cell_type": "code",
   "execution_count": 25,
   "id": "f37743fe",
   "metadata": {
    "execution": {
     "iopub.execute_input": "2024-04-21T13:29:39.326958Z",
     "iopub.status.busy": "2024-04-21T13:29:39.326515Z",
     "iopub.status.idle": "2024-04-21T13:29:39.335875Z",
     "shell.execute_reply": "2024-04-21T13:29:39.334976Z"
    },
    "papermill": {
     "duration": 0.050229,
     "end_time": "2024-04-21T13:29:39.338182",
     "exception": false,
     "start_time": "2024-04-21T13:29:39.287953",
     "status": "completed"
    },
    "tags": []
   },
   "outputs": [],
   "source": [
    "# класс для удобного первода картинок из двумерного объекта в вектор\n",
    "class Flatten(nn.Module):\n",
    "    def forward(self, input):\n",
    "        return input.view(input.size(0), -1)\n",
    "    \n",
    "class SimpleNet(nn.Module):\n",
    "    def __init__(self):\n",
    "        super().__init__()\n",
    "        self.flatten = Flatten()\n",
    "        self.fc1 = nn.Linear(32*32*3, 256) # полносвязные слои - вход и выход\n",
    "        self.fc2 = nn.Linear(256, 10)\n",
    "        \n",
    "    def forward(self, x):\n",
    "        # переводим входной объект из картинки в вектор\n",
    "        x = self.flatten(x)\n",
    "        \n",
    "        # умножение на матрицу весов 1 слоя и применение функции активации\n",
    "        x = F.relu(self.fc1(x))\n",
    "        \n",
    "        # умножение на матрицу весов 2 слоя\n",
    "        x = self.fc2(x)\n",
    "        return x"
   ]
  },
  {
   "cell_type": "code",
   "execution_count": 26,
   "id": "09b9ecb8",
   "metadata": {
    "execution": {
     "iopub.execute_input": "2024-04-21T13:29:39.412550Z",
     "iopub.status.busy": "2024-04-21T13:29:39.411317Z",
     "iopub.status.idle": "2024-04-21T13:29:39.425412Z",
     "shell.execute_reply": "2024-04-21T13:29:39.423813Z"
    },
    "papermill": {
     "duration": 0.053874,
     "end_time": "2024-04-21T13:29:39.428430",
     "exception": false,
     "start_time": "2024-04-21T13:29:39.374556",
     "status": "completed"
    },
    "tags": []
   },
   "outputs": [],
   "source": [
    "from tqdm.notebook import tqdm\n",
    "\n",
    "def train(model, n_epoch=5, lr = 1e-3):\n",
    "    loss_fn = torch.nn.CrossEntropyLoss()\n",
    "    \n",
    "    # алгоритм оптимизации\n",
    "    optimizer = torch.optim.Adam(model.parameters(), lr=lr)\n",
    "    best_accuracy = 0\n",
    "    \n",
    "    for epoch in tqdm(range(n_epoch)):\n",
    "        running_loss = 0.0\n",
    "        train_dataiter = iter(train_loader)\n",
    "        \n",
    "        for i, batch in enumerate(tqdm(train_dataiter)):\n",
    "            X_batch, y_batch = batch # получаем текущий батч\n",
    "            optimizer.zero_grad() # обнуляем градиент\n",
    "            \n",
    "            # forward pass\n",
    "            y_pred = model(X_batch)\n",
    "            loss = loss_fn(y_pred, y_batch)\n",
    "            \n",
    "            loss.backward()\n",
    "            optimizer.step()\n",
    "            \n",
    "            running_loss += loss.item()\n",
    "            \n",
    "            if i % 500 == 499:\n",
    "                print('[%d, %5d] loss: %.3f' % (epoch + 1, i + 1, running_loss / 500))\n",
    "                running_loss = 0.0\n",
    "            \n",
    "        with torch.no_grad():\n",
    "            accuracy = []\n",
    "            for batch in test_loader:\n",
    "                x, y = batch\n",
    "                y_pred = model(x)\n",
    "\n",
    "                accuracy.append(accuracy_score(y.detach().numpy(), np.argmax(y_pred.detach().numpy(), axis=1)))\n",
    "            \n",
    "            accuracy = np.mean(np.array(accuracy))\n",
    "            if accuracy > best_accuracy:\n",
    "                print(f'New best model with test acc: {accuracy}')\n",
    "                torch.save(model.state_dict(), '/kaggle/working/best_model.pt')\n",
    "                best_accuracy = accuracy\n",
    "        \n",
    "    print('Обучение закончено')\n",
    "    return model"
   ]
  },
  {
   "cell_type": "code",
   "execution_count": 27,
   "id": "fff4b20a",
   "metadata": {
    "execution": {
     "iopub.execute_input": "2024-04-21T13:29:39.500679Z",
     "iopub.status.busy": "2024-04-21T13:29:39.499982Z",
     "iopub.status.idle": "2024-04-21T13:33:29.662994Z",
     "shell.execute_reply": "2024-04-21T13:33:29.661617Z"
    },
    "papermill": {
     "duration": 230.202141,
     "end_time": "2024-04-21T13:33:29.665680",
     "exception": false,
     "start_time": "2024-04-21T13:29:39.463539",
     "status": "completed"
    },
    "tags": []
   },
   "outputs": [
    {
     "data": {
      "application/vnd.jupyter.widget-view+json": {
       "model_id": "bed362be7c4c4706acf89f2925e60a24",
       "version_major": 2,
       "version_minor": 0
      },
      "text/plain": [
       "  0%|          | 0/5 [00:00<?, ?it/s]"
      ]
     },
     "metadata": {},
     "output_type": "display_data"
    },
    {
     "data": {
      "application/vnd.jupyter.widget-view+json": {
       "model_id": "23d5888385fb4949858802215fa3ee1f",
       "version_major": 2,
       "version_minor": 0
      },
      "text/plain": [
       "  0%|          | 0/3125 [00:00<?, ?it/s]"
      ]
     },
     "metadata": {},
     "output_type": "display_data"
    },
    {
     "name": "stdout",
     "output_type": "stream",
     "text": [
      "[1,   500] loss: 2.052\n",
      "[1,  1000] loss: 1.880\n",
      "[1,  1500] loss: 1.841\n",
      "[1,  2000] loss: 1.817\n",
      "[1,  2500] loss: 1.796\n",
      "[1,  3000] loss: 1.760\n",
      "New best model with test acc: 0.3577\n"
     ]
    },
    {
     "name": "stderr",
     "output_type": "stream",
     "text": [
      "/opt/conda/lib/python3.10/multiprocessing/popen_fork.py:66: RuntimeWarning: os.fork() was called. os.fork() is incompatible with multithreaded code, and JAX is multithreaded, so this will likely lead to a deadlock.\n",
      "  self.pid = os.fork()\n"
     ]
    },
    {
     "data": {
      "application/vnd.jupyter.widget-view+json": {
       "model_id": "56b318cae6654d74bd36fc892315d3e7",
       "version_major": 2,
       "version_minor": 0
      },
      "text/plain": [
       "  0%|          | 0/3125 [00:00<?, ?it/s]"
      ]
     },
     "metadata": {},
     "output_type": "display_data"
    },
    {
     "name": "stdout",
     "output_type": "stream",
     "text": [
      "[2,   500] loss: 1.747\n",
      "[2,  1000] loss: 1.744\n",
      "[2,  1500] loss: 1.704\n",
      "[2,  2000] loss: 1.713\n",
      "[2,  2500] loss: 1.694\n",
      "[2,  3000] loss: 1.666\n"
     ]
    },
    {
     "name": "stderr",
     "output_type": "stream",
     "text": [
      "/opt/conda/lib/python3.10/multiprocessing/popen_fork.py:66: RuntimeWarning: os.fork() was called. os.fork() is incompatible with multithreaded code, and JAX is multithreaded, so this will likely lead to a deadlock.\n",
      "  self.pid = os.fork()\n"
     ]
    },
    {
     "name": "stdout",
     "output_type": "stream",
     "text": [
      "New best model with test acc: 0.3805\n"
     ]
    },
    {
     "name": "stderr",
     "output_type": "stream",
     "text": [
      "/opt/conda/lib/python3.10/multiprocessing/popen_fork.py:66: RuntimeWarning: os.fork() was called. os.fork() is incompatible with multithreaded code, and JAX is multithreaded, so this will likely lead to a deadlock.\n",
      "  self.pid = os.fork()\n"
     ]
    },
    {
     "data": {
      "application/vnd.jupyter.widget-view+json": {
       "model_id": "8874f79c1e4a4837ba1a50d1f608afc1",
       "version_major": 2,
       "version_minor": 0
      },
      "text/plain": [
       "  0%|          | 0/3125 [00:00<?, ?it/s]"
      ]
     },
     "metadata": {},
     "output_type": "display_data"
    },
    {
     "name": "stdout",
     "output_type": "stream",
     "text": [
      "[3,   500] loss: 1.670\n",
      "[3,  1000] loss: 1.666\n",
      "[3,  1500] loss: 1.660\n",
      "[3,  2000] loss: 1.655\n",
      "[3,  2500] loss: 1.614\n",
      "[3,  3000] loss: 1.633\n"
     ]
    },
    {
     "name": "stderr",
     "output_type": "stream",
     "text": [
      "/opt/conda/lib/python3.10/multiprocessing/popen_fork.py:66: RuntimeWarning: os.fork() was called. os.fork() is incompatible with multithreaded code, and JAX is multithreaded, so this will likely lead to a deadlock.\n",
      "  self.pid = os.fork()\n"
     ]
    },
    {
     "name": "stdout",
     "output_type": "stream",
     "text": [
      "New best model with test acc: 0.4111\n"
     ]
    },
    {
     "name": "stderr",
     "output_type": "stream",
     "text": [
      "/opt/conda/lib/python3.10/multiprocessing/popen_fork.py:66: RuntimeWarning: os.fork() was called. os.fork() is incompatible with multithreaded code, and JAX is multithreaded, so this will likely lead to a deadlock.\n",
      "  self.pid = os.fork()\n"
     ]
    },
    {
     "data": {
      "application/vnd.jupyter.widget-view+json": {
       "model_id": "4e52070ef30848e89c2ab720607487b4",
       "version_major": 2,
       "version_minor": 0
      },
      "text/plain": [
       "  0%|          | 0/3125 [00:00<?, ?it/s]"
      ]
     },
     "metadata": {},
     "output_type": "display_data"
    },
    {
     "name": "stdout",
     "output_type": "stream",
     "text": [
      "[4,   500] loss: 1.612\n",
      "[4,  1000] loss: 1.618\n",
      "[4,  1500] loss: 1.612\n",
      "[4,  2000] loss: 1.624\n",
      "[4,  2500] loss: 1.624\n",
      "[4,  3000] loss: 1.601\n"
     ]
    },
    {
     "name": "stderr",
     "output_type": "stream",
     "text": [
      "/opt/conda/lib/python3.10/multiprocessing/popen_fork.py:66: RuntimeWarning: os.fork() was called. os.fork() is incompatible with multithreaded code, and JAX is multithreaded, so this will likely lead to a deadlock.\n",
      "  self.pid = os.fork()\n"
     ]
    },
    {
     "name": "stdout",
     "output_type": "stream",
     "text": [
      "New best model with test acc: 0.4235\n"
     ]
    },
    {
     "name": "stderr",
     "output_type": "stream",
     "text": [
      "/opt/conda/lib/python3.10/multiprocessing/popen_fork.py:66: RuntimeWarning: os.fork() was called. os.fork() is incompatible with multithreaded code, and JAX is multithreaded, so this will likely lead to a deadlock.\n",
      "  self.pid = os.fork()\n"
     ]
    },
    {
     "data": {
      "application/vnd.jupyter.widget-view+json": {
       "model_id": "e2b77733a3c1482fbc2109647e5428d8",
       "version_major": 2,
       "version_minor": 0
      },
      "text/plain": [
       "  0%|          | 0/3125 [00:00<?, ?it/s]"
      ]
     },
     "metadata": {},
     "output_type": "display_data"
    },
    {
     "name": "stdout",
     "output_type": "stream",
     "text": [
      "[5,   500] loss: 1.598\n",
      "[5,  1000] loss: 1.591\n",
      "[5,  1500] loss: 1.601\n",
      "[5,  2000] loss: 1.598\n",
      "[5,  2500] loss: 1.589\n",
      "[5,  3000] loss: 1.590\n"
     ]
    },
    {
     "name": "stderr",
     "output_type": "stream",
     "text": [
      "/opt/conda/lib/python3.10/multiprocessing/popen_fork.py:66: RuntimeWarning: os.fork() was called. os.fork() is incompatible with multithreaded code, and JAX is multithreaded, so this will likely lead to a deadlock.\n",
      "  self.pid = os.fork()\n"
     ]
    },
    {
     "name": "stdout",
     "output_type": "stream",
     "text": [
      "New best model with test acc: 0.4438\n",
      "Обучение закончено\n"
     ]
    }
   ],
   "source": [
    "model = SimpleNet()\n",
    "model = train(model)"
   ]
  },
  {
   "cell_type": "code",
   "execution_count": 28,
   "id": "a707ad4b",
   "metadata": {
    "execution": {
     "iopub.execute_input": "2024-04-21T13:33:29.749312Z",
     "iopub.status.busy": "2024-04-21T13:33:29.748847Z",
     "iopub.status.idle": "2024-04-21T13:33:29.767241Z",
     "shell.execute_reply": "2024-04-21T13:33:29.766185Z"
    },
    "papermill": {
     "duration": 0.063397,
     "end_time": "2024-04-21T13:33:29.769655",
     "exception": false,
     "start_time": "2024-04-21T13:33:29.706258",
     "status": "completed"
    },
    "tags": []
   },
   "outputs": [
    {
     "data": {
      "text/plain": [
       "SimpleNet(\n",
       "  (flatten): Flatten()\n",
       "  (fc1): Linear(in_features=3072, out_features=256, bias=True)\n",
       "  (fc2): Linear(in_features=256, out_features=10, bias=True)\n",
       ")"
      ]
     },
     "execution_count": 28,
     "metadata": {},
     "output_type": "execute_result"
    }
   ],
   "source": [
    "model = SimpleNet()\n",
    "model.load_state_dict(torch.load('/kaggle/working/best_model.pt'))\n",
    "model.eval()"
   ]
  },
  {
   "cell_type": "code",
   "execution_count": 29,
   "id": "76d003ad",
   "metadata": {
    "execution": {
     "iopub.execute_input": "2024-04-21T13:33:29.856210Z",
     "iopub.status.busy": "2024-04-21T13:33:29.855485Z",
     "iopub.status.idle": "2024-04-21T13:33:32.481940Z",
     "shell.execute_reply": "2024-04-21T13:33:32.480790Z"
    },
    "papermill": {
     "duration": 2.673021,
     "end_time": "2024-04-21T13:33:32.484536",
     "exception": false,
     "start_time": "2024-04-21T13:33:29.811515",
     "status": "completed"
    },
    "tags": []
   },
   "outputs": [
    {
     "name": "stdout",
     "output_type": "stream",
     "text": [
      "accuracy: 0.4438\n"
     ]
    }
   ],
   "source": [
    "with torch.no_grad():\n",
    "    accuracy = []\n",
    "    for batch in test_loader:\n",
    "        x, y = batch\n",
    "        y_pred = model(x)\n",
    "        accuracy.append(accuracy_score(y.numpy(), np.argmax(y_pred.detach().numpy(), axis=1)))\n",
    "    accuracy = np.mean(np.array(accuracy))\n",
    "print(f'accuracy: {accuracy}')"
   ]
  }
 ],
 "metadata": {
  "kaggle": {
   "accelerator": "none",
   "dataSources": [
    {
     "databundleVersionId": 861823,
     "sourceId": 3004,
     "sourceType": "competition"
    }
   ],
   "dockerImageVersionId": 30673,
   "isGpuEnabled": false,
   "isInternetEnabled": true,
   "language": "python",
   "sourceType": "notebook"
  },
  "kernelspec": {
   "display_name": "Python 3",
   "language": "python",
   "name": "python3"
  },
  "language_info": {
   "codemirror_mode": {
    "name": "ipython",
    "version": 3
   },
   "file_extension": ".py",
   "mimetype": "text/x-python",
   "name": "python",
   "nbconvert_exporter": "python",
   "pygments_lexer": "ipython3",
   "version": "3.10.13"
  },
  "papermill": {
   "default_parameters": {},
   "duration": 344.246009,
   "end_time": "2024-04-21T13:33:35.250932",
   "environment_variables": {},
   "exception": null,
   "input_path": "__notebook__.ipynb",
   "output_path": "__notebook__.ipynb",
   "parameters": {},
   "start_time": "2024-04-21T13:27:51.004923",
   "version": "2.5.0"
  },
  "widgets": {
   "application/vnd.jupyter.widget-state+json": {
    "state": {
     "003c5f8bd12e48fda7365d3e233d318e": {
      "model_module": "@jupyter-widgets/base",
      "model_module_version": "1.2.0",
      "model_name": "LayoutModel",
      "state": {
       "_model_module": "@jupyter-widgets/base",
       "_model_module_version": "1.2.0",
       "_model_name": "LayoutModel",
       "_view_count": null,
       "_view_module": "@jupyter-widgets/base",
       "_view_module_version": "1.2.0",
       "_view_name": "LayoutView",
       "align_content": null,
       "align_items": null,
       "align_self": null,
       "border": null,
       "bottom": null,
       "display": null,
       "flex": null,
       "flex_flow": null,
       "grid_area": null,
       "grid_auto_columns": null,
       "grid_auto_flow": null,
       "grid_auto_rows": null,
       "grid_column": null,
       "grid_gap": null,
       "grid_row": null,
       "grid_template_areas": null,
       "grid_template_columns": null,
       "grid_template_rows": null,
       "height": null,
       "justify_content": null,
       "justify_items": null,
       "left": null,
       "margin": null,
       "max_height": null,
       "max_width": null,
       "min_height": null,
       "min_width": null,
       "object_fit": null,
       "object_position": null,
       "order": null,
       "overflow": null,
       "overflow_x": null,
       "overflow_y": null,
       "padding": null,
       "right": null,
       "top": null,
       "visibility": null,
       "width": null
      }
     },
     "13c6bed230844d2c84388ab7a03415e4": {
      "model_module": "@jupyter-widgets/controls",
      "model_module_version": "1.5.0",
      "model_name": "FloatProgressModel",
      "state": {
       "_dom_classes": [],
       "_model_module": "@jupyter-widgets/controls",
       "_model_module_version": "1.5.0",
       "_model_name": "FloatProgressModel",
       "_view_count": null,
       "_view_module": "@jupyter-widgets/controls",
       "_view_module_version": "1.5.0",
       "_view_name": "ProgressView",
       "bar_style": "success",
       "description": "",
       "description_tooltip": null,
       "layout": "IPY_MODEL_f525a2279a5743369dc10c46fa60fb3c",
       "max": 3125,
       "min": 0,
       "orientation": "horizontal",
       "style": "IPY_MODEL_79434e12a287466ba47f66f399b5de33",
       "value": 3125
      }
     },
     "17c33a1c408348e79d824c16c1805683": {
      "model_module": "@jupyter-widgets/controls",
      "model_module_version": "1.5.0",
      "model_name": "FloatProgressModel",
      "state": {
       "_dom_classes": [],
       "_model_module": "@jupyter-widgets/controls",
       "_model_module_version": "1.5.0",
       "_model_name": "FloatProgressModel",
       "_view_count": null,
       "_view_module": "@jupyter-widgets/controls",
       "_view_module_version": "1.5.0",
       "_view_name": "ProgressView",
       "bar_style": "success",
       "description": "",
       "description_tooltip": null,
       "layout": "IPY_MODEL_4d5f78d7520347a18767ea0ae561bc07",
       "max": 3125,
       "min": 0,
       "orientation": "horizontal",
       "style": "IPY_MODEL_23d6db0b87ab48c8af4eb2b761608054",
       "value": 3125
      }
     },
     "1ba3aa57aa1447fa97ab5251cece3ffa": {
      "model_module": "@jupyter-widgets/base",
      "model_module_version": "1.2.0",
      "model_name": "LayoutModel",
      "state": {
       "_model_module": "@jupyter-widgets/base",
       "_model_module_version": "1.2.0",
       "_model_name": "LayoutModel",
       "_view_count": null,
       "_view_module": "@jupyter-widgets/base",
       "_view_module_version": "1.2.0",
       "_view_name": "LayoutView",
       "align_content": null,
       "align_items": null,
       "align_self": null,
       "border": null,
       "bottom": null,
       "display": null,
       "flex": null,
       "flex_flow": null,
       "grid_area": null,
       "grid_auto_columns": null,
       "grid_auto_flow": null,
       "grid_auto_rows": null,
       "grid_column": null,
       "grid_gap": null,
       "grid_row": null,
       "grid_template_areas": null,
       "grid_template_columns": null,
       "grid_template_rows": null,
       "height": null,
       "justify_content": null,
       "justify_items": null,
       "left": null,
       "margin": null,
       "max_height": null,
       "max_width": null,
       "min_height": null,
       "min_width": null,
       "object_fit": null,
       "object_position": null,
       "order": null,
       "overflow": null,
       "overflow_x": null,
       "overflow_y": null,
       "padding": null,
       "right": null,
       "top": null,
       "visibility": null,
       "width": null
      }
     },
     "1eff4c8135744f548dbd44e6f1cd9c34": {
      "model_module": "@jupyter-widgets/controls",
      "model_module_version": "1.5.0",
      "model_name": "DescriptionStyleModel",
      "state": {
       "_model_module": "@jupyter-widgets/controls",
       "_model_module_version": "1.5.0",
       "_model_name": "DescriptionStyleModel",
       "_view_count": null,
       "_view_module": "@jupyter-widgets/base",
       "_view_module_version": "1.2.0",
       "_view_name": "StyleView",
       "description_width": ""
      }
     },
     "232e76bd3c5b493b80c2997a3134bd4a": {
      "model_module": "@jupyter-widgets/base",
      "model_module_version": "1.2.0",
      "model_name": "LayoutModel",
      "state": {
       "_model_module": "@jupyter-widgets/base",
       "_model_module_version": "1.2.0",
       "_model_name": "LayoutModel",
       "_view_count": null,
       "_view_module": "@jupyter-widgets/base",
       "_view_module_version": "1.2.0",
       "_view_name": "LayoutView",
       "align_content": null,
       "align_items": null,
       "align_self": null,
       "border": null,
       "bottom": null,
       "display": null,
       "flex": null,
       "flex_flow": null,
       "grid_area": null,
       "grid_auto_columns": null,
       "grid_auto_flow": null,
       "grid_auto_rows": null,
       "grid_column": null,
       "grid_gap": null,
       "grid_row": null,
       "grid_template_areas": null,
       "grid_template_columns": null,
       "grid_template_rows": null,
       "height": null,
       "justify_content": null,
       "justify_items": null,
       "left": null,
       "margin": null,
       "max_height": null,
       "max_width": null,
       "min_height": null,
       "min_width": null,
       "object_fit": null,
       "object_position": null,
       "order": null,
       "overflow": null,
       "overflow_x": null,
       "overflow_y": null,
       "padding": null,
       "right": null,
       "top": null,
       "visibility": null,
       "width": null
      }
     },
     "23d5888385fb4949858802215fa3ee1f": {
      "model_module": "@jupyter-widgets/controls",
      "model_module_version": "1.5.0",
      "model_name": "HBoxModel",
      "state": {
       "_dom_classes": [],
       "_model_module": "@jupyter-widgets/controls",
       "_model_module_version": "1.5.0",
       "_model_name": "HBoxModel",
       "_view_count": null,
       "_view_module": "@jupyter-widgets/controls",
       "_view_module_version": "1.5.0",
       "_view_name": "HBoxView",
       "box_style": "",
       "children": [
        "IPY_MODEL_dcb47e4de3cd46ec82a43abd510cc8d2",
        "IPY_MODEL_17c33a1c408348e79d824c16c1805683",
        "IPY_MODEL_d36c78dd13764eb897f79b06d2064b93"
       ],
       "layout": "IPY_MODEL_83b243933f7e499dbf9f178b69ace47a"
      }
     },
     "23d6db0b87ab48c8af4eb2b761608054": {
      "model_module": "@jupyter-widgets/controls",
      "model_module_version": "1.5.0",
      "model_name": "ProgressStyleModel",
      "state": {
       "_model_module": "@jupyter-widgets/controls",
       "_model_module_version": "1.5.0",
       "_model_name": "ProgressStyleModel",
       "_view_count": null,
       "_view_module": "@jupyter-widgets/base",
       "_view_module_version": "1.2.0",
       "_view_name": "StyleView",
       "bar_color": null,
       "description_width": ""
      }
     },
     "253a68b935e448539c67c74c6979dd57": {
      "model_module": "@jupyter-widgets/controls",
      "model_module_version": "1.5.0",
      "model_name": "HTMLModel",
      "state": {
       "_dom_classes": [],
       "_model_module": "@jupyter-widgets/controls",
       "_model_module_version": "1.5.0",
       "_model_name": "HTMLModel",
       "_view_count": null,
       "_view_module": "@jupyter-widgets/controls",
       "_view_module_version": "1.5.0",
       "_view_name": "HTMLView",
       "description": "",
       "description_tooltip": null,
       "layout": "IPY_MODEL_c5df5c76d67c432e93f8e0fa70fb2bca",
       "placeholder": "​",
       "style": "IPY_MODEL_25968263f653417cbee0665ae2ed02eb",
       "value": " 3125/3125 [00:43&lt;00:00, 75.41it/s]"
      }
     },
     "25968263f653417cbee0665ae2ed02eb": {
      "model_module": "@jupyter-widgets/controls",
      "model_module_version": "1.5.0",
      "model_name": "DescriptionStyleModel",
      "state": {
       "_model_module": "@jupyter-widgets/controls",
       "_model_module_version": "1.5.0",
       "_model_name": "DescriptionStyleModel",
       "_view_count": null,
       "_view_module": "@jupyter-widgets/base",
       "_view_module_version": "1.2.0",
       "_view_name": "StyleView",
       "description_width": ""
      }
     },
     "27dc8e91aa204612ae1f18209d2a8164": {
      "model_module": "@jupyter-widgets/base",
      "model_module_version": "1.2.0",
      "model_name": "LayoutModel",
      "state": {
       "_model_module": "@jupyter-widgets/base",
       "_model_module_version": "1.2.0",
       "_model_name": "LayoutModel",
       "_view_count": null,
       "_view_module": "@jupyter-widgets/base",
       "_view_module_version": "1.2.0",
       "_view_name": "LayoutView",
       "align_content": null,
       "align_items": null,
       "align_self": null,
       "border": null,
       "bottom": null,
       "display": null,
       "flex": null,
       "flex_flow": null,
       "grid_area": null,
       "grid_auto_columns": null,
       "grid_auto_flow": null,
       "grid_auto_rows": null,
       "grid_column": null,
       "grid_gap": null,
       "grid_row": null,
       "grid_template_areas": null,
       "grid_template_columns": null,
       "grid_template_rows": null,
       "height": null,
       "justify_content": null,
       "justify_items": null,
       "left": null,
       "margin": null,
       "max_height": null,
       "max_width": null,
       "min_height": null,
       "min_width": null,
       "object_fit": null,
       "object_position": null,
       "order": null,
       "overflow": null,
       "overflow_x": null,
       "overflow_y": null,
       "padding": null,
       "right": null,
       "top": null,
       "visibility": null,
       "width": null
      }
     },
     "2f72a743ca7a49b296e5075341c91186": {
      "model_module": "@jupyter-widgets/controls",
      "model_module_version": "1.5.0",
      "model_name": "FloatProgressModel",
      "state": {
       "_dom_classes": [],
       "_model_module": "@jupyter-widgets/controls",
       "_model_module_version": "1.5.0",
       "_model_name": "FloatProgressModel",
       "_view_count": null,
       "_view_module": "@jupyter-widgets/controls",
       "_view_module_version": "1.5.0",
       "_view_name": "ProgressView",
       "bar_style": "success",
       "description": "",
       "description_tooltip": null,
       "layout": "IPY_MODEL_fd0731f532634f04ac1b35fec1004c7e",
       "max": 5,
       "min": 0,
       "orientation": "horizontal",
       "style": "IPY_MODEL_66697b703b1146a1bb1adffc1a790740",
       "value": 5
      }
     },
     "33029521a7834b6dadcd884f15b11b1c": {
      "model_module": "@jupyter-widgets/controls",
      "model_module_version": "1.5.0",
      "model_name": "FloatProgressModel",
      "state": {
       "_dom_classes": [],
       "_model_module": "@jupyter-widgets/controls",
       "_model_module_version": "1.5.0",
       "_model_name": "FloatProgressModel",
       "_view_count": null,
       "_view_module": "@jupyter-widgets/controls",
       "_view_module_version": "1.5.0",
       "_view_name": "ProgressView",
       "bar_style": "success",
       "description": "",
       "description_tooltip": null,
       "layout": "IPY_MODEL_df0092168c3b4c918c69f901f1e0f6e7",
       "max": 3125,
       "min": 0,
       "orientation": "horizontal",
       "style": "IPY_MODEL_3663f24965074203904de7d370ec300a",
       "value": 3125
      }
     },
     "3663f24965074203904de7d370ec300a": {
      "model_module": "@jupyter-widgets/controls",
      "model_module_version": "1.5.0",
      "model_name": "ProgressStyleModel",
      "state": {
       "_model_module": "@jupyter-widgets/controls",
       "_model_module_version": "1.5.0",
       "_model_name": "ProgressStyleModel",
       "_view_count": null,
       "_view_module": "@jupyter-widgets/base",
       "_view_module_version": "1.2.0",
       "_view_name": "StyleView",
       "bar_color": null,
       "description_width": ""
      }
     },
     "39205916d20a4b039370b4673964411a": {
      "model_module": "@jupyter-widgets/base",
      "model_module_version": "1.2.0",
      "model_name": "LayoutModel",
      "state": {
       "_model_module": "@jupyter-widgets/base",
       "_model_module_version": "1.2.0",
       "_model_name": "LayoutModel",
       "_view_count": null,
       "_view_module": "@jupyter-widgets/base",
       "_view_module_version": "1.2.0",
       "_view_name": "LayoutView",
       "align_content": null,
       "align_items": null,
       "align_self": null,
       "border": null,
       "bottom": null,
       "display": null,
       "flex": null,
       "flex_flow": null,
       "grid_area": null,
       "grid_auto_columns": null,
       "grid_auto_flow": null,
       "grid_auto_rows": null,
       "grid_column": null,
       "grid_gap": null,
       "grid_row": null,
       "grid_template_areas": null,
       "grid_template_columns": null,
       "grid_template_rows": null,
       "height": null,
       "justify_content": null,
       "justify_items": null,
       "left": null,
       "margin": null,
       "max_height": null,
       "max_width": null,
       "min_height": null,
       "min_width": null,
       "object_fit": null,
       "object_position": null,
       "order": null,
       "overflow": null,
       "overflow_x": null,
       "overflow_y": null,
       "padding": null,
       "right": null,
       "top": null,
       "visibility": null,
       "width": null
      }
     },
     "39fd6b6b88b24d9e84e1e5693d9bcecd": {
      "model_module": "@jupyter-widgets/base",
      "model_module_version": "1.2.0",
      "model_name": "LayoutModel",
      "state": {
       "_model_module": "@jupyter-widgets/base",
       "_model_module_version": "1.2.0",
       "_model_name": "LayoutModel",
       "_view_count": null,
       "_view_module": "@jupyter-widgets/base",
       "_view_module_version": "1.2.0",
       "_view_name": "LayoutView",
       "align_content": null,
       "align_items": null,
       "align_self": null,
       "border": null,
       "bottom": null,
       "display": null,
       "flex": null,
       "flex_flow": null,
       "grid_area": null,
       "grid_auto_columns": null,
       "grid_auto_flow": null,
       "grid_auto_rows": null,
       "grid_column": null,
       "grid_gap": null,
       "grid_row": null,
       "grid_template_areas": null,
       "grid_template_columns": null,
       "grid_template_rows": null,
       "height": null,
       "justify_content": null,
       "justify_items": null,
       "left": null,
       "margin": null,
       "max_height": null,
       "max_width": null,
       "min_height": null,
       "min_width": null,
       "object_fit": null,
       "object_position": null,
       "order": null,
       "overflow": null,
       "overflow_x": null,
       "overflow_y": null,
       "padding": null,
       "right": null,
       "top": null,
       "visibility": null,
       "width": null
      }
     },
     "3bedf5dcb44a4595a06915947fcbadfc": {
      "model_module": "@jupyter-widgets/controls",
      "model_module_version": "1.5.0",
      "model_name": "ProgressStyleModel",
      "state": {
       "_model_module": "@jupyter-widgets/controls",
       "_model_module_version": "1.5.0",
       "_model_name": "ProgressStyleModel",
       "_view_count": null,
       "_view_module": "@jupyter-widgets/base",
       "_view_module_version": "1.2.0",
       "_view_name": "StyleView",
       "bar_color": null,
       "description_width": ""
      }
     },
     "3cf36d64726f4ad4ba7158b8f4cf1479": {
      "model_module": "@jupyter-widgets/base",
      "model_module_version": "1.2.0",
      "model_name": "LayoutModel",
      "state": {
       "_model_module": "@jupyter-widgets/base",
       "_model_module_version": "1.2.0",
       "_model_name": "LayoutModel",
       "_view_count": null,
       "_view_module": "@jupyter-widgets/base",
       "_view_module_version": "1.2.0",
       "_view_name": "LayoutView",
       "align_content": null,
       "align_items": null,
       "align_self": null,
       "border": null,
       "bottom": null,
       "display": null,
       "flex": null,
       "flex_flow": null,
       "grid_area": null,
       "grid_auto_columns": null,
       "grid_auto_flow": null,
       "grid_auto_rows": null,
       "grid_column": null,
       "grid_gap": null,
       "grid_row": null,
       "grid_template_areas": null,
       "grid_template_columns": null,
       "grid_template_rows": null,
       "height": null,
       "justify_content": null,
       "justify_items": null,
       "left": null,
       "margin": null,
       "max_height": null,
       "max_width": null,
       "min_height": null,
       "min_width": null,
       "object_fit": null,
       "object_position": null,
       "order": null,
       "overflow": null,
       "overflow_x": null,
       "overflow_y": null,
       "padding": null,
       "right": null,
       "top": null,
       "visibility": null,
       "width": null
      }
     },
     "45fe42ebe5134333a5ac30f9e3ff0d54": {
      "model_module": "@jupyter-widgets/base",
      "model_module_version": "1.2.0",
      "model_name": "LayoutModel",
      "state": {
       "_model_module": "@jupyter-widgets/base",
       "_model_module_version": "1.2.0",
       "_model_name": "LayoutModel",
       "_view_count": null,
       "_view_module": "@jupyter-widgets/base",
       "_view_module_version": "1.2.0",
       "_view_name": "LayoutView",
       "align_content": null,
       "align_items": null,
       "align_self": null,
       "border": null,
       "bottom": null,
       "display": null,
       "flex": null,
       "flex_flow": null,
       "grid_area": null,
       "grid_auto_columns": null,
       "grid_auto_flow": null,
       "grid_auto_rows": null,
       "grid_column": null,
       "grid_gap": null,
       "grid_row": null,
       "grid_template_areas": null,
       "grid_template_columns": null,
       "grid_template_rows": null,
       "height": null,
       "justify_content": null,
       "justify_items": null,
       "left": null,
       "margin": null,
       "max_height": null,
       "max_width": null,
       "min_height": null,
       "min_width": null,
       "object_fit": null,
       "object_position": null,
       "order": null,
       "overflow": null,
       "overflow_x": null,
       "overflow_y": null,
       "padding": null,
       "right": null,
       "top": null,
       "visibility": null,
       "width": null
      }
     },
     "46267e8559e742198c372613efc7258c": {
      "model_module": "@jupyter-widgets/base",
      "model_module_version": "1.2.0",
      "model_name": "LayoutModel",
      "state": {
       "_model_module": "@jupyter-widgets/base",
       "_model_module_version": "1.2.0",
       "_model_name": "LayoutModel",
       "_view_count": null,
       "_view_module": "@jupyter-widgets/base",
       "_view_module_version": "1.2.0",
       "_view_name": "LayoutView",
       "align_content": null,
       "align_items": null,
       "align_self": null,
       "border": null,
       "bottom": null,
       "display": null,
       "flex": null,
       "flex_flow": null,
       "grid_area": null,
       "grid_auto_columns": null,
       "grid_auto_flow": null,
       "grid_auto_rows": null,
       "grid_column": null,
       "grid_gap": null,
       "grid_row": null,
       "grid_template_areas": null,
       "grid_template_columns": null,
       "grid_template_rows": null,
       "height": null,
       "justify_content": null,
       "justify_items": null,
       "left": null,
       "margin": null,
       "max_height": null,
       "max_width": null,
       "min_height": null,
       "min_width": null,
       "object_fit": null,
       "object_position": null,
       "order": null,
       "overflow": null,
       "overflow_x": null,
       "overflow_y": null,
       "padding": null,
       "right": null,
       "top": null,
       "visibility": null,
       "width": null
      }
     },
     "4d5f78d7520347a18767ea0ae561bc07": {
      "model_module": "@jupyter-widgets/base",
      "model_module_version": "1.2.0",
      "model_name": "LayoutModel",
      "state": {
       "_model_module": "@jupyter-widgets/base",
       "_model_module_version": "1.2.0",
       "_model_name": "LayoutModel",
       "_view_count": null,
       "_view_module": "@jupyter-widgets/base",
       "_view_module_version": "1.2.0",
       "_view_name": "LayoutView",
       "align_content": null,
       "align_items": null,
       "align_self": null,
       "border": null,
       "bottom": null,
       "display": null,
       "flex": null,
       "flex_flow": null,
       "grid_area": null,
       "grid_auto_columns": null,
       "grid_auto_flow": null,
       "grid_auto_rows": null,
       "grid_column": null,
       "grid_gap": null,
       "grid_row": null,
       "grid_template_areas": null,
       "grid_template_columns": null,
       "grid_template_rows": null,
       "height": null,
       "justify_content": null,
       "justify_items": null,
       "left": null,
       "margin": null,
       "max_height": null,
       "max_width": null,
       "min_height": null,
       "min_width": null,
       "object_fit": null,
       "object_position": null,
       "order": null,
       "overflow": null,
       "overflow_x": null,
       "overflow_y": null,
       "padding": null,
       "right": null,
       "top": null,
       "visibility": null,
       "width": null
      }
     },
     "4db777482289414195867bbcb0fc96fa": {
      "model_module": "@jupyter-widgets/controls",
      "model_module_version": "1.5.0",
      "model_name": "HTMLModel",
      "state": {
       "_dom_classes": [],
       "_model_module": "@jupyter-widgets/controls",
       "_model_module_version": "1.5.0",
       "_model_name": "HTMLModel",
       "_view_count": null,
       "_view_module": "@jupyter-widgets/controls",
       "_view_module_version": "1.5.0",
       "_view_name": "HTMLView",
       "description": "",
       "description_tooltip": null,
       "layout": "IPY_MODEL_003c5f8bd12e48fda7365d3e233d318e",
       "placeholder": "​",
       "style": "IPY_MODEL_bc01939ec6824fcbb0cce3fb94a4dcf2",
       "value": " 3125/3125 [00:43&lt;00:00, 73.42it/s]"
      }
     },
     "4e52070ef30848e89c2ab720607487b4": {
      "model_module": "@jupyter-widgets/controls",
      "model_module_version": "1.5.0",
      "model_name": "HBoxModel",
      "state": {
       "_dom_classes": [],
       "_model_module": "@jupyter-widgets/controls",
       "_model_module_version": "1.5.0",
       "_model_name": "HBoxModel",
       "_view_count": null,
       "_view_module": "@jupyter-widgets/controls",
       "_view_module_version": "1.5.0",
       "_view_name": "HBoxView",
       "box_style": "",
       "children": [
        "IPY_MODEL_b1cd1d71a54049889453c82b114646c4",
        "IPY_MODEL_33029521a7834b6dadcd884f15b11b1c",
        "IPY_MODEL_b29be526336f4744bbeaf4b57d075abd"
       ],
       "layout": "IPY_MODEL_e7a31b166ec0474ba7695b08f5e5c0ac"
      }
     },
     "56b318cae6654d74bd36fc892315d3e7": {
      "model_module": "@jupyter-widgets/controls",
      "model_module_version": "1.5.0",
      "model_name": "HBoxModel",
      "state": {
       "_dom_classes": [],
       "_model_module": "@jupyter-widgets/controls",
       "_model_module_version": "1.5.0",
       "_model_name": "HBoxModel",
       "_view_count": null,
       "_view_module": "@jupyter-widgets/controls",
       "_view_module_version": "1.5.0",
       "_view_name": "HBoxView",
       "box_style": "",
       "children": [
        "IPY_MODEL_938400bd32dd4838bf804d54a33ce7d2",
        "IPY_MODEL_abdb733ee7384702843c1f78af7db6a9",
        "IPY_MODEL_960136627c884fb7bc894d7bae4dd503"
       ],
       "layout": "IPY_MODEL_f3779918664441bc87cd7508560feda3"
      }
     },
     "579df58b14964503876b1fdacc1457e9": {
      "model_module": "@jupyter-widgets/controls",
      "model_module_version": "1.5.0",
      "model_name": "DescriptionStyleModel",
      "state": {
       "_model_module": "@jupyter-widgets/controls",
       "_model_module_version": "1.5.0",
       "_model_name": "DescriptionStyleModel",
       "_view_count": null,
       "_view_module": "@jupyter-widgets/base",
       "_view_module_version": "1.2.0",
       "_view_name": "StyleView",
       "description_width": ""
      }
     },
     "5dcd61cd2ee648dd8867a223a1eff811": {
      "model_module": "@jupyter-widgets/controls",
      "model_module_version": "1.5.0",
      "model_name": "HTMLModel",
      "state": {
       "_dom_classes": [],
       "_model_module": "@jupyter-widgets/controls",
       "_model_module_version": "1.5.0",
       "_model_name": "HTMLModel",
       "_view_count": null,
       "_view_module": "@jupyter-widgets/controls",
       "_view_module_version": "1.5.0",
       "_view_name": "HTMLView",
       "description": "",
       "description_tooltip": null,
       "layout": "IPY_MODEL_45fe42ebe5134333a5ac30f9e3ff0d54",
       "placeholder": "​",
       "style": "IPY_MODEL_8ce4df15e3854d44b6fd5f81c4e58972",
       "value": " 5/5 [03:50&lt;00:00, 46.26s/it]"
      }
     },
     "66697b703b1146a1bb1adffc1a790740": {
      "model_module": "@jupyter-widgets/controls",
      "model_module_version": "1.5.0",
      "model_name": "ProgressStyleModel",
      "state": {
       "_model_module": "@jupyter-widgets/controls",
       "_model_module_version": "1.5.0",
       "_model_name": "ProgressStyleModel",
       "_view_count": null,
       "_view_module": "@jupyter-widgets/base",
       "_view_module_version": "1.2.0",
       "_view_name": "StyleView",
       "bar_color": null,
       "description_width": ""
      }
     },
     "7040c4fa9cc74cdda8dd0957b4819b64": {
      "model_module": "@jupyter-widgets/base",
      "model_module_version": "1.2.0",
      "model_name": "LayoutModel",
      "state": {
       "_model_module": "@jupyter-widgets/base",
       "_model_module_version": "1.2.0",
       "_model_name": "LayoutModel",
       "_view_count": null,
       "_view_module": "@jupyter-widgets/base",
       "_view_module_version": "1.2.0",
       "_view_name": "LayoutView",
       "align_content": null,
       "align_items": null,
       "align_self": null,
       "border": null,
       "bottom": null,
       "display": null,
       "flex": null,
       "flex_flow": null,
       "grid_area": null,
       "grid_auto_columns": null,
       "grid_auto_flow": null,
       "grid_auto_rows": null,
       "grid_column": null,
       "grid_gap": null,
       "grid_row": null,
       "grid_template_areas": null,
       "grid_template_columns": null,
       "grid_template_rows": null,
       "height": null,
       "justify_content": null,
       "justify_items": null,
       "left": null,
       "margin": null,
       "max_height": null,
       "max_width": null,
       "min_height": null,
       "min_width": null,
       "object_fit": null,
       "object_position": null,
       "order": null,
       "overflow": null,
       "overflow_x": null,
       "overflow_y": null,
       "padding": null,
       "right": null,
       "top": null,
       "visibility": null,
       "width": null
      }
     },
     "70c022c276e14360ac7356f97f141948": {
      "model_module": "@jupyter-widgets/controls",
      "model_module_version": "1.5.0",
      "model_name": "DescriptionStyleModel",
      "state": {
       "_model_module": "@jupyter-widgets/controls",
       "_model_module_version": "1.5.0",
       "_model_name": "DescriptionStyleModel",
       "_view_count": null,
       "_view_module": "@jupyter-widgets/base",
       "_view_module_version": "1.2.0",
       "_view_name": "StyleView",
       "description_width": ""
      }
     },
     "75721a40db2d4420bce79a73c9e34bb2": {
      "model_module": "@jupyter-widgets/controls",
      "model_module_version": "1.5.0",
      "model_name": "HTMLModel",
      "state": {
       "_dom_classes": [],
       "_model_module": "@jupyter-widgets/controls",
       "_model_module_version": "1.5.0",
       "_model_name": "HTMLModel",
       "_view_count": null,
       "_view_module": "@jupyter-widgets/controls",
       "_view_module_version": "1.5.0",
       "_view_name": "HTMLView",
       "description": "",
       "description_tooltip": null,
       "layout": "IPY_MODEL_99ff5f60f8a045e386e20136e76ef72d",
       "placeholder": "​",
       "style": "IPY_MODEL_1eff4c8135744f548dbd44e6f1cd9c34",
       "value": "100%"
      }
     },
     "79434e12a287466ba47f66f399b5de33": {
      "model_module": "@jupyter-widgets/controls",
      "model_module_version": "1.5.0",
      "model_name": "ProgressStyleModel",
      "state": {
       "_model_module": "@jupyter-widgets/controls",
       "_model_module_version": "1.5.0",
       "_model_name": "ProgressStyleModel",
       "_view_count": null,
       "_view_module": "@jupyter-widgets/base",
       "_view_module_version": "1.2.0",
       "_view_name": "StyleView",
       "bar_color": null,
       "description_width": ""
      }
     },
     "83b243933f7e499dbf9f178b69ace47a": {
      "model_module": "@jupyter-widgets/base",
      "model_module_version": "1.2.0",
      "model_name": "LayoutModel",
      "state": {
       "_model_module": "@jupyter-widgets/base",
       "_model_module_version": "1.2.0",
       "_model_name": "LayoutModel",
       "_view_count": null,
       "_view_module": "@jupyter-widgets/base",
       "_view_module_version": "1.2.0",
       "_view_name": "LayoutView",
       "align_content": null,
       "align_items": null,
       "align_self": null,
       "border": null,
       "bottom": null,
       "display": null,
       "flex": null,
       "flex_flow": null,
       "grid_area": null,
       "grid_auto_columns": null,
       "grid_auto_flow": null,
       "grid_auto_rows": null,
       "grid_column": null,
       "grid_gap": null,
       "grid_row": null,
       "grid_template_areas": null,
       "grid_template_columns": null,
       "grid_template_rows": null,
       "height": null,
       "justify_content": null,
       "justify_items": null,
       "left": null,
       "margin": null,
       "max_height": null,
       "max_width": null,
       "min_height": null,
       "min_width": null,
       "object_fit": null,
       "object_position": null,
       "order": null,
       "overflow": null,
       "overflow_x": null,
       "overflow_y": null,
       "padding": null,
       "right": null,
       "top": null,
       "visibility": null,
       "width": null
      }
     },
     "8874f79c1e4a4837ba1a50d1f608afc1": {
      "model_module": "@jupyter-widgets/controls",
      "model_module_version": "1.5.0",
      "model_name": "HBoxModel",
      "state": {
       "_dom_classes": [],
       "_model_module": "@jupyter-widgets/controls",
       "_model_module_version": "1.5.0",
       "_model_name": "HBoxModel",
       "_view_count": null,
       "_view_module": "@jupyter-widgets/controls",
       "_view_module_version": "1.5.0",
       "_view_name": "HBoxView",
       "box_style": "",
       "children": [
        "IPY_MODEL_75721a40db2d4420bce79a73c9e34bb2",
        "IPY_MODEL_13c6bed230844d2c84388ab7a03415e4",
        "IPY_MODEL_253a68b935e448539c67c74c6979dd57"
       ],
       "layout": "IPY_MODEL_f047afeee0744c79b15ed8d48928db4b"
      }
     },
     "88cc2622a8a544b28e58a2899b7524ef": {
      "model_module": "@jupyter-widgets/base",
      "model_module_version": "1.2.0",
      "model_name": "LayoutModel",
      "state": {
       "_model_module": "@jupyter-widgets/base",
       "_model_module_version": "1.2.0",
       "_model_name": "LayoutModel",
       "_view_count": null,
       "_view_module": "@jupyter-widgets/base",
       "_view_module_version": "1.2.0",
       "_view_name": "LayoutView",
       "align_content": null,
       "align_items": null,
       "align_self": null,
       "border": null,
       "bottom": null,
       "display": null,
       "flex": null,
       "flex_flow": null,
       "grid_area": null,
       "grid_auto_columns": null,
       "grid_auto_flow": null,
       "grid_auto_rows": null,
       "grid_column": null,
       "grid_gap": null,
       "grid_row": null,
       "grid_template_areas": null,
       "grid_template_columns": null,
       "grid_template_rows": null,
       "height": null,
       "justify_content": null,
       "justify_items": null,
       "left": null,
       "margin": null,
       "max_height": null,
       "max_width": null,
       "min_height": null,
       "min_width": null,
       "object_fit": null,
       "object_position": null,
       "order": null,
       "overflow": null,
       "overflow_x": null,
       "overflow_y": null,
       "padding": null,
       "right": null,
       "top": null,
       "visibility": null,
       "width": null
      }
     },
     "8ce4df15e3854d44b6fd5f81c4e58972": {
      "model_module": "@jupyter-widgets/controls",
      "model_module_version": "1.5.0",
      "model_name": "DescriptionStyleModel",
      "state": {
       "_model_module": "@jupyter-widgets/controls",
       "_model_module_version": "1.5.0",
       "_model_name": "DescriptionStyleModel",
       "_view_count": null,
       "_view_module": "@jupyter-widgets/base",
       "_view_module_version": "1.2.0",
       "_view_name": "StyleView",
       "description_width": ""
      }
     },
     "8f04b6fc790d4e49bb16e7ba930a6732": {
      "model_module": "@jupyter-widgets/controls",
      "model_module_version": "1.5.0",
      "model_name": "DescriptionStyleModel",
      "state": {
       "_model_module": "@jupyter-widgets/controls",
       "_model_module_version": "1.5.0",
       "_model_name": "DescriptionStyleModel",
       "_view_count": null,
       "_view_module": "@jupyter-widgets/base",
       "_view_module_version": "1.2.0",
       "_view_name": "StyleView",
       "description_width": ""
      }
     },
     "8fbb74df642047bd8dd700eb85f3e3c9": {
      "model_module": "@jupyter-widgets/controls",
      "model_module_version": "1.5.0",
      "model_name": "HTMLModel",
      "state": {
       "_dom_classes": [],
       "_model_module": "@jupyter-widgets/controls",
       "_model_module_version": "1.5.0",
       "_model_name": "HTMLModel",
       "_view_count": null,
       "_view_module": "@jupyter-widgets/controls",
       "_view_module_version": "1.5.0",
       "_view_name": "HTMLView",
       "description": "",
       "description_tooltip": null,
       "layout": "IPY_MODEL_7040c4fa9cc74cdda8dd0957b4819b64",
       "placeholder": "​",
       "style": "IPY_MODEL_b46166bed5c744d7a94917111a1f6ca1",
       "value": "100%"
      }
     },
     "938400bd32dd4838bf804d54a33ce7d2": {
      "model_module": "@jupyter-widgets/controls",
      "model_module_version": "1.5.0",
      "model_name": "HTMLModel",
      "state": {
       "_dom_classes": [],
       "_model_module": "@jupyter-widgets/controls",
       "_model_module_version": "1.5.0",
       "_model_name": "HTMLModel",
       "_view_count": null,
       "_view_module": "@jupyter-widgets/controls",
       "_view_module_version": "1.5.0",
       "_view_name": "HTMLView",
       "description": "",
       "description_tooltip": null,
       "layout": "IPY_MODEL_88cc2622a8a544b28e58a2899b7524ef",
       "placeholder": "​",
       "style": "IPY_MODEL_70c022c276e14360ac7356f97f141948",
       "value": "100%"
      }
     },
     "960136627c884fb7bc894d7bae4dd503": {
      "model_module": "@jupyter-widgets/controls",
      "model_module_version": "1.5.0",
      "model_name": "HTMLModel",
      "state": {
       "_dom_classes": [],
       "_model_module": "@jupyter-widgets/controls",
       "_model_module_version": "1.5.0",
       "_model_name": "HTMLModel",
       "_view_count": null,
       "_view_module": "@jupyter-widgets/controls",
       "_view_module_version": "1.5.0",
       "_view_name": "HTMLView",
       "description": "",
       "description_tooltip": null,
       "layout": "IPY_MODEL_1ba3aa57aa1447fa97ab5251cece3ffa",
       "placeholder": "​",
       "style": "IPY_MODEL_579df58b14964503876b1fdacc1457e9",
       "value": " 3125/3125 [00:44&lt;00:00, 74.29it/s]"
      }
     },
     "99ff5f60f8a045e386e20136e76ef72d": {
      "model_module": "@jupyter-widgets/base",
      "model_module_version": "1.2.0",
      "model_name": "LayoutModel",
      "state": {
       "_model_module": "@jupyter-widgets/base",
       "_model_module_version": "1.2.0",
       "_model_name": "LayoutModel",
       "_view_count": null,
       "_view_module": "@jupyter-widgets/base",
       "_view_module_version": "1.2.0",
       "_view_name": "LayoutView",
       "align_content": null,
       "align_items": null,
       "align_self": null,
       "border": null,
       "bottom": null,
       "display": null,
       "flex": null,
       "flex_flow": null,
       "grid_area": null,
       "grid_auto_columns": null,
       "grid_auto_flow": null,
       "grid_auto_rows": null,
       "grid_column": null,
       "grid_gap": null,
       "grid_row": null,
       "grid_template_areas": null,
       "grid_template_columns": null,
       "grid_template_rows": null,
       "height": null,
       "justify_content": null,
       "justify_items": null,
       "left": null,
       "margin": null,
       "max_height": null,
       "max_width": null,
       "min_height": null,
       "min_width": null,
       "object_fit": null,
       "object_position": null,
       "order": null,
       "overflow": null,
       "overflow_x": null,
       "overflow_y": null,
       "padding": null,
       "right": null,
       "top": null,
       "visibility": null,
       "width": null
      }
     },
     "a3b9e3548c2f4dfda377c4a22589f0ba": {
      "model_module": "@jupyter-widgets/controls",
      "model_module_version": "1.5.0",
      "model_name": "DescriptionStyleModel",
      "state": {
       "_model_module": "@jupyter-widgets/controls",
       "_model_module_version": "1.5.0",
       "_model_name": "DescriptionStyleModel",
       "_view_count": null,
       "_view_module": "@jupyter-widgets/base",
       "_view_module_version": "1.2.0",
       "_view_name": "StyleView",
       "description_width": ""
      }
     },
     "a43cfbd2da934e9a8b6e0de4b516cf4e": {
      "model_module": "@jupyter-widgets/base",
      "model_module_version": "1.2.0",
      "model_name": "LayoutModel",
      "state": {
       "_model_module": "@jupyter-widgets/base",
       "_model_module_version": "1.2.0",
       "_model_name": "LayoutModel",
       "_view_count": null,
       "_view_module": "@jupyter-widgets/base",
       "_view_module_version": "1.2.0",
       "_view_name": "LayoutView",
       "align_content": null,
       "align_items": null,
       "align_self": null,
       "border": null,
       "bottom": null,
       "display": null,
       "flex": null,
       "flex_flow": null,
       "grid_area": null,
       "grid_auto_columns": null,
       "grid_auto_flow": null,
       "grid_auto_rows": null,
       "grid_column": null,
       "grid_gap": null,
       "grid_row": null,
       "grid_template_areas": null,
       "grid_template_columns": null,
       "grid_template_rows": null,
       "height": null,
       "justify_content": null,
       "justify_items": null,
       "left": null,
       "margin": null,
       "max_height": null,
       "max_width": null,
       "min_height": null,
       "min_width": null,
       "object_fit": null,
       "object_position": null,
       "order": null,
       "overflow": null,
       "overflow_x": null,
       "overflow_y": null,
       "padding": null,
       "right": null,
       "top": null,
       "visibility": null,
       "width": null
      }
     },
     "a4d0704cad9142cc8f425b05c4c85ab3": {
      "model_module": "@jupyter-widgets/controls",
      "model_module_version": "1.5.0",
      "model_name": "DescriptionStyleModel",
      "state": {
       "_model_module": "@jupyter-widgets/controls",
       "_model_module_version": "1.5.0",
       "_model_name": "DescriptionStyleModel",
       "_view_count": null,
       "_view_module": "@jupyter-widgets/base",
       "_view_module_version": "1.2.0",
       "_view_name": "StyleView",
       "description_width": ""
      }
     },
     "abdb733ee7384702843c1f78af7db6a9": {
      "model_module": "@jupyter-widgets/controls",
      "model_module_version": "1.5.0",
      "model_name": "FloatProgressModel",
      "state": {
       "_dom_classes": [],
       "_model_module": "@jupyter-widgets/controls",
       "_model_module_version": "1.5.0",
       "_model_name": "FloatProgressModel",
       "_view_count": null,
       "_view_module": "@jupyter-widgets/controls",
       "_view_module_version": "1.5.0",
       "_view_name": "ProgressView",
       "bar_style": "success",
       "description": "",
       "description_tooltip": null,
       "layout": "IPY_MODEL_27dc8e91aa204612ae1f18209d2a8164",
       "max": 3125,
       "min": 0,
       "orientation": "horizontal",
       "style": "IPY_MODEL_3bedf5dcb44a4595a06915947fcbadfc",
       "value": 3125
      }
     },
     "b1cd1d71a54049889453c82b114646c4": {
      "model_module": "@jupyter-widgets/controls",
      "model_module_version": "1.5.0",
      "model_name": "HTMLModel",
      "state": {
       "_dom_classes": [],
       "_model_module": "@jupyter-widgets/controls",
       "_model_module_version": "1.5.0",
       "_model_name": "HTMLModel",
       "_view_count": null,
       "_view_module": "@jupyter-widgets/controls",
       "_view_module_version": "1.5.0",
       "_view_name": "HTMLView",
       "description": "",
       "description_tooltip": null,
       "layout": "IPY_MODEL_232e76bd3c5b493b80c2997a3134bd4a",
       "placeholder": "​",
       "style": "IPY_MODEL_a3b9e3548c2f4dfda377c4a22589f0ba",
       "value": "100%"
      }
     },
     "b29be526336f4744bbeaf4b57d075abd": {
      "model_module": "@jupyter-widgets/controls",
      "model_module_version": "1.5.0",
      "model_name": "HTMLModel",
      "state": {
       "_dom_classes": [],
       "_model_module": "@jupyter-widgets/controls",
       "_model_module_version": "1.5.0",
       "_model_name": "HTMLModel",
       "_view_count": null,
       "_view_module": "@jupyter-widgets/controls",
       "_view_module_version": "1.5.0",
       "_view_name": "HTMLView",
       "description": "",
       "description_tooltip": null,
       "layout": "IPY_MODEL_a43cfbd2da934e9a8b6e0de4b516cf4e",
       "placeholder": "​",
       "style": "IPY_MODEL_a4d0704cad9142cc8f425b05c4c85ab3",
       "value": " 3125/3125 [00:44&lt;00:00, 73.53it/s]"
      }
     },
     "b46166bed5c744d7a94917111a1f6ca1": {
      "model_module": "@jupyter-widgets/controls",
      "model_module_version": "1.5.0",
      "model_name": "DescriptionStyleModel",
      "state": {
       "_model_module": "@jupyter-widgets/controls",
       "_model_module_version": "1.5.0",
       "_model_name": "DescriptionStyleModel",
       "_view_count": null,
       "_view_module": "@jupyter-widgets/base",
       "_view_module_version": "1.2.0",
       "_view_name": "StyleView",
       "description_width": ""
      }
     },
     "bc01939ec6824fcbb0cce3fb94a4dcf2": {
      "model_module": "@jupyter-widgets/controls",
      "model_module_version": "1.5.0",
      "model_name": "DescriptionStyleModel",
      "state": {
       "_model_module": "@jupyter-widgets/controls",
       "_model_module_version": "1.5.0",
       "_model_name": "DescriptionStyleModel",
       "_view_count": null,
       "_view_module": "@jupyter-widgets/base",
       "_view_module_version": "1.2.0",
       "_view_name": "StyleView",
       "description_width": ""
      }
     },
     "bed362be7c4c4706acf89f2925e60a24": {
      "model_module": "@jupyter-widgets/controls",
      "model_module_version": "1.5.0",
      "model_name": "HBoxModel",
      "state": {
       "_dom_classes": [],
       "_model_module": "@jupyter-widgets/controls",
       "_model_module_version": "1.5.0",
       "_model_name": "HBoxModel",
       "_view_count": null,
       "_view_module": "@jupyter-widgets/controls",
       "_view_module_version": "1.5.0",
       "_view_name": "HBoxView",
       "box_style": "",
       "children": [
        "IPY_MODEL_e310b1104dc245f3b625dcd395b39a6f",
        "IPY_MODEL_2f72a743ca7a49b296e5075341c91186",
        "IPY_MODEL_5dcd61cd2ee648dd8867a223a1eff811"
       ],
       "layout": "IPY_MODEL_39fd6b6b88b24d9e84e1e5693d9bcecd"
      }
     },
     "bfe95b129dfa43bb96c77e7930a590f3": {
      "model_module": "@jupyter-widgets/base",
      "model_module_version": "1.2.0",
      "model_name": "LayoutModel",
      "state": {
       "_model_module": "@jupyter-widgets/base",
       "_model_module_version": "1.2.0",
       "_model_name": "LayoutModel",
       "_view_count": null,
       "_view_module": "@jupyter-widgets/base",
       "_view_module_version": "1.2.0",
       "_view_name": "LayoutView",
       "align_content": null,
       "align_items": null,
       "align_self": null,
       "border": null,
       "bottom": null,
       "display": null,
       "flex": null,
       "flex_flow": null,
       "grid_area": null,
       "grid_auto_columns": null,
       "grid_auto_flow": null,
       "grid_auto_rows": null,
       "grid_column": null,
       "grid_gap": null,
       "grid_row": null,
       "grid_template_areas": null,
       "grid_template_columns": null,
       "grid_template_rows": null,
       "height": null,
       "justify_content": null,
       "justify_items": null,
       "left": null,
       "margin": null,
       "max_height": null,
       "max_width": null,
       "min_height": null,
       "min_width": null,
       "object_fit": null,
       "object_position": null,
       "order": null,
       "overflow": null,
       "overflow_x": null,
       "overflow_y": null,
       "padding": null,
       "right": null,
       "top": null,
       "visibility": null,
       "width": null
      }
     },
     "c5df5c76d67c432e93f8e0fa70fb2bca": {
      "model_module": "@jupyter-widgets/base",
      "model_module_version": "1.2.0",
      "model_name": "LayoutModel",
      "state": {
       "_model_module": "@jupyter-widgets/base",
       "_model_module_version": "1.2.0",
       "_model_name": "LayoutModel",
       "_view_count": null,
       "_view_module": "@jupyter-widgets/base",
       "_view_module_version": "1.2.0",
       "_view_name": "LayoutView",
       "align_content": null,
       "align_items": null,
       "align_self": null,
       "border": null,
       "bottom": null,
       "display": null,
       "flex": null,
       "flex_flow": null,
       "grid_area": null,
       "grid_auto_columns": null,
       "grid_auto_flow": null,
       "grid_auto_rows": null,
       "grid_column": null,
       "grid_gap": null,
       "grid_row": null,
       "grid_template_areas": null,
       "grid_template_columns": null,
       "grid_template_rows": null,
       "height": null,
       "justify_content": null,
       "justify_items": null,
       "left": null,
       "margin": null,
       "max_height": null,
       "max_width": null,
       "min_height": null,
       "min_width": null,
       "object_fit": null,
       "object_position": null,
       "order": null,
       "overflow": null,
       "overflow_x": null,
       "overflow_y": null,
       "padding": null,
       "right": null,
       "top": null,
       "visibility": null,
       "width": null
      }
     },
     "d0c6b73e5e2b4e57bbb7e6420f771e38": {
      "model_module": "@jupyter-widgets/base",
      "model_module_version": "1.2.0",
      "model_name": "LayoutModel",
      "state": {
       "_model_module": "@jupyter-widgets/base",
       "_model_module_version": "1.2.0",
       "_model_name": "LayoutModel",
       "_view_count": null,
       "_view_module": "@jupyter-widgets/base",
       "_view_module_version": "1.2.0",
       "_view_name": "LayoutView",
       "align_content": null,
       "align_items": null,
       "align_self": null,
       "border": null,
       "bottom": null,
       "display": null,
       "flex": null,
       "flex_flow": null,
       "grid_area": null,
       "grid_auto_columns": null,
       "grid_auto_flow": null,
       "grid_auto_rows": null,
       "grid_column": null,
       "grid_gap": null,
       "grid_row": null,
       "grid_template_areas": null,
       "grid_template_columns": null,
       "grid_template_rows": null,
       "height": null,
       "justify_content": null,
       "justify_items": null,
       "left": null,
       "margin": null,
       "max_height": null,
       "max_width": null,
       "min_height": null,
       "min_width": null,
       "object_fit": null,
       "object_position": null,
       "order": null,
       "overflow": null,
       "overflow_x": null,
       "overflow_y": null,
       "padding": null,
       "right": null,
       "top": null,
       "visibility": null,
       "width": null
      }
     },
     "d36c78dd13764eb897f79b06d2064b93": {
      "model_module": "@jupyter-widgets/controls",
      "model_module_version": "1.5.0",
      "model_name": "HTMLModel",
      "state": {
       "_dom_classes": [],
       "_model_module": "@jupyter-widgets/controls",
       "_model_module_version": "1.5.0",
       "_model_name": "HTMLModel",
       "_view_count": null,
       "_view_module": "@jupyter-widgets/controls",
       "_view_module_version": "1.5.0",
       "_view_name": "HTMLView",
       "description": "",
       "description_tooltip": null,
       "layout": "IPY_MODEL_39205916d20a4b039370b4673964411a",
       "placeholder": "​",
       "style": "IPY_MODEL_8f04b6fc790d4e49bb16e7ba930a6732",
       "value": " 3125/3125 [00:40&lt;00:00, 72.75it/s]"
      }
     },
     "d53b6d6096564475bdf5719543b7f0e6": {
      "model_module": "@jupyter-widgets/controls",
      "model_module_version": "1.5.0",
      "model_name": "ProgressStyleModel",
      "state": {
       "_model_module": "@jupyter-widgets/controls",
       "_model_module_version": "1.5.0",
       "_model_name": "ProgressStyleModel",
       "_view_count": null,
       "_view_module": "@jupyter-widgets/base",
       "_view_module_version": "1.2.0",
       "_view_name": "StyleView",
       "bar_color": null,
       "description_width": ""
      }
     },
     "dcb47e4de3cd46ec82a43abd510cc8d2": {
      "model_module": "@jupyter-widgets/controls",
      "model_module_version": "1.5.0",
      "model_name": "HTMLModel",
      "state": {
       "_dom_classes": [],
       "_model_module": "@jupyter-widgets/controls",
       "_model_module_version": "1.5.0",
       "_model_name": "HTMLModel",
       "_view_count": null,
       "_view_module": "@jupyter-widgets/controls",
       "_view_module_version": "1.5.0",
       "_view_name": "HTMLView",
       "description": "",
       "description_tooltip": null,
       "layout": "IPY_MODEL_46267e8559e742198c372613efc7258c",
       "placeholder": "​",
       "style": "IPY_MODEL_ee149965eb70496a88fa0a391d0e7b6f",
       "value": "100%"
      }
     },
     "df0092168c3b4c918c69f901f1e0f6e7": {
      "model_module": "@jupyter-widgets/base",
      "model_module_version": "1.2.0",
      "model_name": "LayoutModel",
      "state": {
       "_model_module": "@jupyter-widgets/base",
       "_model_module_version": "1.2.0",
       "_model_name": "LayoutModel",
       "_view_count": null,
       "_view_module": "@jupyter-widgets/base",
       "_view_module_version": "1.2.0",
       "_view_name": "LayoutView",
       "align_content": null,
       "align_items": null,
       "align_self": null,
       "border": null,
       "bottom": null,
       "display": null,
       "flex": null,
       "flex_flow": null,
       "grid_area": null,
       "grid_auto_columns": null,
       "grid_auto_flow": null,
       "grid_auto_rows": null,
       "grid_column": null,
       "grid_gap": null,
       "grid_row": null,
       "grid_template_areas": null,
       "grid_template_columns": null,
       "grid_template_rows": null,
       "height": null,
       "justify_content": null,
       "justify_items": null,
       "left": null,
       "margin": null,
       "max_height": null,
       "max_width": null,
       "min_height": null,
       "min_width": null,
       "object_fit": null,
       "object_position": null,
       "order": null,
       "overflow": null,
       "overflow_x": null,
       "overflow_y": null,
       "padding": null,
       "right": null,
       "top": null,
       "visibility": null,
       "width": null
      }
     },
     "e2b77733a3c1482fbc2109647e5428d8": {
      "model_module": "@jupyter-widgets/controls",
      "model_module_version": "1.5.0",
      "model_name": "HBoxModel",
      "state": {
       "_dom_classes": [],
       "_model_module": "@jupyter-widgets/controls",
       "_model_module_version": "1.5.0",
       "_model_name": "HBoxModel",
       "_view_count": null,
       "_view_module": "@jupyter-widgets/controls",
       "_view_module_version": "1.5.0",
       "_view_name": "HBoxView",
       "box_style": "",
       "children": [
        "IPY_MODEL_8fbb74df642047bd8dd700eb85f3e3c9",
        "IPY_MODEL_fed089e528ac4abbaaf0e5237b91c383",
        "IPY_MODEL_4db777482289414195867bbcb0fc96fa"
       ],
       "layout": "IPY_MODEL_d0c6b73e5e2b4e57bbb7e6420f771e38"
      }
     },
     "e310b1104dc245f3b625dcd395b39a6f": {
      "model_module": "@jupyter-widgets/controls",
      "model_module_version": "1.5.0",
      "model_name": "HTMLModel",
      "state": {
       "_dom_classes": [],
       "_model_module": "@jupyter-widgets/controls",
       "_model_module_version": "1.5.0",
       "_model_name": "HTMLModel",
       "_view_count": null,
       "_view_module": "@jupyter-widgets/controls",
       "_view_module_version": "1.5.0",
       "_view_name": "HTMLView",
       "description": "",
       "description_tooltip": null,
       "layout": "IPY_MODEL_3cf36d64726f4ad4ba7158b8f4cf1479",
       "placeholder": "​",
       "style": "IPY_MODEL_f6a9fe2f68cb472ea89e2c4e529aa44a",
       "value": "100%"
      }
     },
     "e7a31b166ec0474ba7695b08f5e5c0ac": {
      "model_module": "@jupyter-widgets/base",
      "model_module_version": "1.2.0",
      "model_name": "LayoutModel",
      "state": {
       "_model_module": "@jupyter-widgets/base",
       "_model_module_version": "1.2.0",
       "_model_name": "LayoutModel",
       "_view_count": null,
       "_view_module": "@jupyter-widgets/base",
       "_view_module_version": "1.2.0",
       "_view_name": "LayoutView",
       "align_content": null,
       "align_items": null,
       "align_self": null,
       "border": null,
       "bottom": null,
       "display": null,
       "flex": null,
       "flex_flow": null,
       "grid_area": null,
       "grid_auto_columns": null,
       "grid_auto_flow": null,
       "grid_auto_rows": null,
       "grid_column": null,
       "grid_gap": null,
       "grid_row": null,
       "grid_template_areas": null,
       "grid_template_columns": null,
       "grid_template_rows": null,
       "height": null,
       "justify_content": null,
       "justify_items": null,
       "left": null,
       "margin": null,
       "max_height": null,
       "max_width": null,
       "min_height": null,
       "min_width": null,
       "object_fit": null,
       "object_position": null,
       "order": null,
       "overflow": null,
       "overflow_x": null,
       "overflow_y": null,
       "padding": null,
       "right": null,
       "top": null,
       "visibility": null,
       "width": null
      }
     },
     "ee149965eb70496a88fa0a391d0e7b6f": {
      "model_module": "@jupyter-widgets/controls",
      "model_module_version": "1.5.0",
      "model_name": "DescriptionStyleModel",
      "state": {
       "_model_module": "@jupyter-widgets/controls",
       "_model_module_version": "1.5.0",
       "_model_name": "DescriptionStyleModel",
       "_view_count": null,
       "_view_module": "@jupyter-widgets/base",
       "_view_module_version": "1.2.0",
       "_view_name": "StyleView",
       "description_width": ""
      }
     },
     "f047afeee0744c79b15ed8d48928db4b": {
      "model_module": "@jupyter-widgets/base",
      "model_module_version": "1.2.0",
      "model_name": "LayoutModel",
      "state": {
       "_model_module": "@jupyter-widgets/base",
       "_model_module_version": "1.2.0",
       "_model_name": "LayoutModel",
       "_view_count": null,
       "_view_module": "@jupyter-widgets/base",
       "_view_module_version": "1.2.0",
       "_view_name": "LayoutView",
       "align_content": null,
       "align_items": null,
       "align_self": null,
       "border": null,
       "bottom": null,
       "display": null,
       "flex": null,
       "flex_flow": null,
       "grid_area": null,
       "grid_auto_columns": null,
       "grid_auto_flow": null,
       "grid_auto_rows": null,
       "grid_column": null,
       "grid_gap": null,
       "grid_row": null,
       "grid_template_areas": null,
       "grid_template_columns": null,
       "grid_template_rows": null,
       "height": null,
       "justify_content": null,
       "justify_items": null,
       "left": null,
       "margin": null,
       "max_height": null,
       "max_width": null,
       "min_height": null,
       "min_width": null,
       "object_fit": null,
       "object_position": null,
       "order": null,
       "overflow": null,
       "overflow_x": null,
       "overflow_y": null,
       "padding": null,
       "right": null,
       "top": null,
       "visibility": null,
       "width": null
      }
     },
     "f3779918664441bc87cd7508560feda3": {
      "model_module": "@jupyter-widgets/base",
      "model_module_version": "1.2.0",
      "model_name": "LayoutModel",
      "state": {
       "_model_module": "@jupyter-widgets/base",
       "_model_module_version": "1.2.0",
       "_model_name": "LayoutModel",
       "_view_count": null,
       "_view_module": "@jupyter-widgets/base",
       "_view_module_version": "1.2.0",
       "_view_name": "LayoutView",
       "align_content": null,
       "align_items": null,
       "align_self": null,
       "border": null,
       "bottom": null,
       "display": null,
       "flex": null,
       "flex_flow": null,
       "grid_area": null,
       "grid_auto_columns": null,
       "grid_auto_flow": null,
       "grid_auto_rows": null,
       "grid_column": null,
       "grid_gap": null,
       "grid_row": null,
       "grid_template_areas": null,
       "grid_template_columns": null,
       "grid_template_rows": null,
       "height": null,
       "justify_content": null,
       "justify_items": null,
       "left": null,
       "margin": null,
       "max_height": null,
       "max_width": null,
       "min_height": null,
       "min_width": null,
       "object_fit": null,
       "object_position": null,
       "order": null,
       "overflow": null,
       "overflow_x": null,
       "overflow_y": null,
       "padding": null,
       "right": null,
       "top": null,
       "visibility": null,
       "width": null
      }
     },
     "f525a2279a5743369dc10c46fa60fb3c": {
      "model_module": "@jupyter-widgets/base",
      "model_module_version": "1.2.0",
      "model_name": "LayoutModel",
      "state": {
       "_model_module": "@jupyter-widgets/base",
       "_model_module_version": "1.2.0",
       "_model_name": "LayoutModel",
       "_view_count": null,
       "_view_module": "@jupyter-widgets/base",
       "_view_module_version": "1.2.0",
       "_view_name": "LayoutView",
       "align_content": null,
       "align_items": null,
       "align_self": null,
       "border": null,
       "bottom": null,
       "display": null,
       "flex": null,
       "flex_flow": null,
       "grid_area": null,
       "grid_auto_columns": null,
       "grid_auto_flow": null,
       "grid_auto_rows": null,
       "grid_column": null,
       "grid_gap": null,
       "grid_row": null,
       "grid_template_areas": null,
       "grid_template_columns": null,
       "grid_template_rows": null,
       "height": null,
       "justify_content": null,
       "justify_items": null,
       "left": null,
       "margin": null,
       "max_height": null,
       "max_width": null,
       "min_height": null,
       "min_width": null,
       "object_fit": null,
       "object_position": null,
       "order": null,
       "overflow": null,
       "overflow_x": null,
       "overflow_y": null,
       "padding": null,
       "right": null,
       "top": null,
       "visibility": null,
       "width": null
      }
     },
     "f6a9fe2f68cb472ea89e2c4e529aa44a": {
      "model_module": "@jupyter-widgets/controls",
      "model_module_version": "1.5.0",
      "model_name": "DescriptionStyleModel",
      "state": {
       "_model_module": "@jupyter-widgets/controls",
       "_model_module_version": "1.5.0",
       "_model_name": "DescriptionStyleModel",
       "_view_count": null,
       "_view_module": "@jupyter-widgets/base",
       "_view_module_version": "1.2.0",
       "_view_name": "StyleView",
       "description_width": ""
      }
     },
     "fd0731f532634f04ac1b35fec1004c7e": {
      "model_module": "@jupyter-widgets/base",
      "model_module_version": "1.2.0",
      "model_name": "LayoutModel",
      "state": {
       "_model_module": "@jupyter-widgets/base",
       "_model_module_version": "1.2.0",
       "_model_name": "LayoutModel",
       "_view_count": null,
       "_view_module": "@jupyter-widgets/base",
       "_view_module_version": "1.2.0",
       "_view_name": "LayoutView",
       "align_content": null,
       "align_items": null,
       "align_self": null,
       "border": null,
       "bottom": null,
       "display": null,
       "flex": null,
       "flex_flow": null,
       "grid_area": null,
       "grid_auto_columns": null,
       "grid_auto_flow": null,
       "grid_auto_rows": null,
       "grid_column": null,
       "grid_gap": null,
       "grid_row": null,
       "grid_template_areas": null,
       "grid_template_columns": null,
       "grid_template_rows": null,
       "height": null,
       "justify_content": null,
       "justify_items": null,
       "left": null,
       "margin": null,
       "max_height": null,
       "max_width": null,
       "min_height": null,
       "min_width": null,
       "object_fit": null,
       "object_position": null,
       "order": null,
       "overflow": null,
       "overflow_x": null,
       "overflow_y": null,
       "padding": null,
       "right": null,
       "top": null,
       "visibility": null,
       "width": null
      }
     },
     "fed089e528ac4abbaaf0e5237b91c383": {
      "model_module": "@jupyter-widgets/controls",
      "model_module_version": "1.5.0",
      "model_name": "FloatProgressModel",
      "state": {
       "_dom_classes": [],
       "_model_module": "@jupyter-widgets/controls",
       "_model_module_version": "1.5.0",
       "_model_name": "FloatProgressModel",
       "_view_count": null,
       "_view_module": "@jupyter-widgets/controls",
       "_view_module_version": "1.5.0",
       "_view_name": "ProgressView",
       "bar_style": "success",
       "description": "",
       "description_tooltip": null,
       "layout": "IPY_MODEL_bfe95b129dfa43bb96c77e7930a590f3",
       "max": 3125,
       "min": 0,
       "orientation": "horizontal",
       "style": "IPY_MODEL_d53b6d6096564475bdf5719543b7f0e6",
       "value": 3125
      }
     }
    },
    "version_major": 2,
    "version_minor": 0
   }
  }
 },
 "nbformat": 4,
 "nbformat_minor": 5
}
